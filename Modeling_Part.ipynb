{
 "cells": [
  {
   "cell_type": "code",
   "execution_count": 1,
   "metadata": {
    "executionInfo": {
     "elapsed": 22992,
     "status": "ok",
     "timestamp": 1750423350058,
     "user": {
      "displayName": "Baran Kılınç",
      "userId": "15668208283949447064"
     },
     "user_tz": -180
    },
    "id": "DTAFVX5p9ZPI"
   },
   "outputs": [],
   "source": [
    "import pandas as pd\n",
    "import numpy as np\n",
    "from sklearn.model_selection import train_test_split\n",
    "from sklearn.linear_model import LogisticRegression\n",
    "from sklearn.metrics import accuracy_score, precision_score, recall_score, f1_score, classification_report, confusion_matrix\n",
    "from statsmodels.stats.outliers_influence import variance_inflation_factor\n",
    "from statsmodels.tools.tools import add_constant\n",
    "import statsmodels.api as sm\n",
    "import xgboost as xgb\n",
    "from sklearn.ensemble import RandomForestClassifier\n",
    "from sklearn.ensemble import BaggingClassifier\n",
    "from sklearn.tree import DecisionTreeClassifier\n",
    "from sklearn.metrics import confusion_matrix, accuracy_score, cohen_kappa_score, recall_score, precision_score\n",
    "from tabulate import tabulate\n",
    "from xgboost import XGBClassifier\n",
    "from sklearn.neighbors import KNeighborsClassifier\n",
    "from sklearn.svm import LinearSVC\n",
    "from sklearn.ensemble import GradientBoostingClassifier\n",
    "import matplotlib.pyplot as plt\n",
    "import seaborn as sns\n",
    "from sklearn.model_selection import cross_val_score\n",
    "from sklearn.tree import plot_tree\n",
    "from sklearn.inspection import permutation_importance\n",
    "\n",
    "\n"
   ]
  },
  {
   "cell_type": "code",
   "execution_count": 2,
   "metadata": {
    "executionInfo": {
     "elapsed": 3,
     "status": "ok",
     "timestamp": 1750423358464,
     "user": {
      "displayName": "Baran Kılınç",
      "userId": "15668208283949447064"
     },
     "user_tz": -180
    },
    "id": "Ct75W7ByniGd"
   },
   "outputs": [],
   "source": [
    "#warning\n",
    "import warnings\n",
    "warnings.filterwarnings(\"ignore\")"
   ]
  },
  {
   "cell_type": "markdown",
   "metadata": {},
   "source": [
    "After the data preprocessing steps in R, the resulting dataset, named modified_data, is clean, free of missing values, adjusted for outliers, and includes only the most relevant features. All categorical variables have been encoded properly, and therefore modified_data is strictly numerical and ready for modeling or analysis. The form prepared aims to provide better and more accurate results in the coming stages."
   ]
  },
  {
   "cell_type": "code",
   "execution_count": 3,
   "metadata": {
    "executionInfo": {
     "elapsed": 460,
     "status": "ok",
     "timestamp": 1750423359923,
     "user": {
      "displayName": "Baran Kılınç",
      "userId": "15668208283949447064"
     },
     "user_tz": -180
    },
    "id": "dQyuwjgB9fqS"
   },
   "outputs": [],
   "source": [
    "data = pd.read_csv(\"modified_data.csv\")"
   ]
  },
  {
   "cell_type": "code",
   "execution_count": 4,
   "metadata": {
    "colab": {
     "base_uri": "https://localhost:8080/",
     "height": 256
    },
    "executionInfo": {
     "elapsed": 81,
     "status": "ok",
     "timestamp": 1750423360832,
     "user": {
      "displayName": "Baran Kılınç",
      "userId": "15668208283949447064"
     },
     "user_tz": -180
    },
    "id": "pjkkMiqx9p18",
    "outputId": "b2cfb7d4-f3c2-43a8-86d1-d855c90b2345"
   },
   "outputs": [
    {
     "data": {
      "application/vnd.google.colaboratory.intrinsic+json": {
       "type": "dataframe",
       "variable_name": "data"
      },
      "text/html": [
       "\n",
       "  <div id=\"df-7b0b7710-f636-48b0-bd85-010420a44f80\" class=\"colab-df-container\">\n",
       "    <div>\n",
       "<style scoped>\n",
       "    .dataframe tbody tr th:only-of-type {\n",
       "        vertical-align: middle;\n",
       "    }\n",
       "\n",
       "    .dataframe tbody tr th {\n",
       "        vertical-align: top;\n",
       "    }\n",
       "\n",
       "    .dataframe thead th {\n",
       "        text-align: right;\n",
       "    }\n",
       "</style>\n",
       "<table border=\"1\" class=\"dataframe\">\n",
       "  <thead>\n",
       "    <tr style=\"text-align: right;\">\n",
       "      <th></th>\n",
       "      <th>Age</th>\n",
       "      <th>Class</th>\n",
       "      <th>Flight.Distance</th>\n",
       "      <th>Departure.Arrival.time.convenient</th>\n",
       "      <th>Ease.of.Online.booking</th>\n",
       "      <th>Gate.location</th>\n",
       "      <th>Food.and.drink</th>\n",
       "      <th>Online.boarding</th>\n",
       "      <th>Seat.comfort</th>\n",
       "      <th>Inflight.entertainment</th>\n",
       "      <th>...</th>\n",
       "      <th>Leg.room.service</th>\n",
       "      <th>Baggage.handling</th>\n",
       "      <th>Checkin.service</th>\n",
       "      <th>Inflight.service</th>\n",
       "      <th>Cleanliness</th>\n",
       "      <th>Arrival.Delay.in.Minutes</th>\n",
       "      <th>satisfaction</th>\n",
       "      <th>Gender_Male</th>\n",
       "      <th>Customer.Type_disloyal.Customer</th>\n",
       "      <th>Type.of.Travel_Personal.Travel</th>\n",
       "    </tr>\n",
       "  </thead>\n",
       "  <tbody>\n",
       "    <tr>\n",
       "      <th>0</th>\n",
       "      <td>0.076923</td>\n",
       "      <td>0.5</td>\n",
       "      <td>0.081997</td>\n",
       "      <td>0.8</td>\n",
       "      <td>0.6</td>\n",
       "      <td>0.2</td>\n",
       "      <td>1.0</td>\n",
       "      <td>0.6</td>\n",
       "      <td>1.0</td>\n",
       "      <td>1.0</td>\n",
       "      <td>...</td>\n",
       "      <td>0.6</td>\n",
       "      <td>0.75</td>\n",
       "      <td>0.8</td>\n",
       "      <td>1.0</td>\n",
       "      <td>1.0</td>\n",
       "      <td>0.032086</td>\n",
       "      <td>0</td>\n",
       "      <td>1</td>\n",
       "      <td>0</td>\n",
       "      <td>1</td>\n",
       "    </tr>\n",
       "    <tr>\n",
       "      <th>1</th>\n",
       "      <td>0.230769</td>\n",
       "      <td>1.0</td>\n",
       "      <td>0.036330</td>\n",
       "      <td>0.4</td>\n",
       "      <td>0.6</td>\n",
       "      <td>0.6</td>\n",
       "      <td>0.2</td>\n",
       "      <td>0.6</td>\n",
       "      <td>0.2</td>\n",
       "      <td>0.2</td>\n",
       "      <td>...</td>\n",
       "      <td>1.0</td>\n",
       "      <td>0.50</td>\n",
       "      <td>0.2</td>\n",
       "      <td>0.8</td>\n",
       "      <td>0.2</td>\n",
       "      <td>0.010695</td>\n",
       "      <td>0</td>\n",
       "      <td>0</td>\n",
       "      <td>1</td>\n",
       "      <td>0</td>\n",
       "    </tr>\n",
       "    <tr>\n",
       "      <th>2</th>\n",
       "      <td>0.243590</td>\n",
       "      <td>1.0</td>\n",
       "      <td>0.220418</td>\n",
       "      <td>0.4</td>\n",
       "      <td>0.4</td>\n",
       "      <td>0.4</td>\n",
       "      <td>1.0</td>\n",
       "      <td>1.0</td>\n",
       "      <td>1.0</td>\n",
       "      <td>1.0</td>\n",
       "      <td>...</td>\n",
       "      <td>0.6</td>\n",
       "      <td>0.75</td>\n",
       "      <td>0.8</td>\n",
       "      <td>0.8</td>\n",
       "      <td>1.0</td>\n",
       "      <td>0.000000</td>\n",
       "      <td>1</td>\n",
       "      <td>0</td>\n",
       "      <td>0</td>\n",
       "      <td>0</td>\n",
       "    </tr>\n",
       "    <tr>\n",
       "      <th>3</th>\n",
       "      <td>0.230769</td>\n",
       "      <td>1.0</td>\n",
       "      <td>0.102699</td>\n",
       "      <td>1.0</td>\n",
       "      <td>1.0</td>\n",
       "      <td>1.0</td>\n",
       "      <td>0.4</td>\n",
       "      <td>0.4</td>\n",
       "      <td>0.4</td>\n",
       "      <td>0.4</td>\n",
       "      <td>...</td>\n",
       "      <td>1.0</td>\n",
       "      <td>0.50</td>\n",
       "      <td>0.2</td>\n",
       "      <td>0.8</td>\n",
       "      <td>0.4</td>\n",
       "      <td>0.016043</td>\n",
       "      <td>0</td>\n",
       "      <td>0</td>\n",
       "      <td>0</td>\n",
       "      <td>0</td>\n",
       "    </tr>\n",
       "    <tr>\n",
       "      <th>4</th>\n",
       "      <td>0.692308</td>\n",
       "      <td>1.0</td>\n",
       "      <td>0.032068</td>\n",
       "      <td>0.6</td>\n",
       "      <td>0.6</td>\n",
       "      <td>0.6</td>\n",
       "      <td>0.8</td>\n",
       "      <td>1.0</td>\n",
       "      <td>1.0</td>\n",
       "      <td>0.6</td>\n",
       "      <td>...</td>\n",
       "      <td>0.8</td>\n",
       "      <td>0.75</td>\n",
       "      <td>0.6</td>\n",
       "      <td>0.6</td>\n",
       "      <td>0.6</td>\n",
       "      <td>0.000000</td>\n",
       "      <td>1</td>\n",
       "      <td>0</td>\n",
       "      <td>0</td>\n",
       "      <td>0</td>\n",
       "    </tr>\n",
       "  </tbody>\n",
       "</table>\n",
       "<p>5 rows × 21 columns</p>\n",
       "</div>\n",
       "    <div class=\"colab-df-buttons\">\n",
       "\n",
       "  <div class=\"colab-df-container\">\n",
       "    <button class=\"colab-df-convert\" onclick=\"convertToInteractive('df-7b0b7710-f636-48b0-bd85-010420a44f80')\"\n",
       "            title=\"Convert this dataframe to an interactive table.\"\n",
       "            style=\"display:none;\">\n",
       "\n",
       "  <svg xmlns=\"http://www.w3.org/2000/svg\" height=\"24px\" viewBox=\"0 -960 960 960\">\n",
       "    <path d=\"M120-120v-720h720v720H120Zm60-500h600v-160H180v160Zm220 220h160v-160H400v160Zm0 220h160v-160H400v160ZM180-400h160v-160H180v160Zm440 0h160v-160H620v160ZM180-180h160v-160H180v160Zm440 0h160v-160H620v160Z\"/>\n",
       "  </svg>\n",
       "    </button>\n",
       "\n",
       "  <style>\n",
       "    .colab-df-container {\n",
       "      display:flex;\n",
       "      gap: 12px;\n",
       "    }\n",
       "\n",
       "    .colab-df-convert {\n",
       "      background-color: #E8F0FE;\n",
       "      border: none;\n",
       "      border-radius: 50%;\n",
       "      cursor: pointer;\n",
       "      display: none;\n",
       "      fill: #1967D2;\n",
       "      height: 32px;\n",
       "      padding: 0 0 0 0;\n",
       "      width: 32px;\n",
       "    }\n",
       "\n",
       "    .colab-df-convert:hover {\n",
       "      background-color: #E2EBFA;\n",
       "      box-shadow: 0px 1px 2px rgba(60, 64, 67, 0.3), 0px 1px 3px 1px rgba(60, 64, 67, 0.15);\n",
       "      fill: #174EA6;\n",
       "    }\n",
       "\n",
       "    .colab-df-buttons div {\n",
       "      margin-bottom: 4px;\n",
       "    }\n",
       "\n",
       "    [theme=dark] .colab-df-convert {\n",
       "      background-color: #3B4455;\n",
       "      fill: #D2E3FC;\n",
       "    }\n",
       "\n",
       "    [theme=dark] .colab-df-convert:hover {\n",
       "      background-color: #434B5C;\n",
       "      box-shadow: 0px 1px 3px 1px rgba(0, 0, 0, 0.15);\n",
       "      filter: drop-shadow(0px 1px 2px rgba(0, 0, 0, 0.3));\n",
       "      fill: #FFFFFF;\n",
       "    }\n",
       "  </style>\n",
       "\n",
       "    <script>\n",
       "      const buttonEl =\n",
       "        document.querySelector('#df-7b0b7710-f636-48b0-bd85-010420a44f80 button.colab-df-convert');\n",
       "      buttonEl.style.display =\n",
       "        google.colab.kernel.accessAllowed ? 'block' : 'none';\n",
       "\n",
       "      async function convertToInteractive(key) {\n",
       "        const element = document.querySelector('#df-7b0b7710-f636-48b0-bd85-010420a44f80');\n",
       "        const dataTable =\n",
       "          await google.colab.kernel.invokeFunction('convertToInteractive',\n",
       "                                                    [key], {});\n",
       "        if (!dataTable) return;\n",
       "\n",
       "        const docLinkHtml = 'Like what you see? Visit the ' +\n",
       "          '<a target=\"_blank\" href=https://colab.research.google.com/notebooks/data_table.ipynb>data table notebook</a>'\n",
       "          + ' to learn more about interactive tables.';\n",
       "        element.innerHTML = '';\n",
       "        dataTable['output_type'] = 'display_data';\n",
       "        await google.colab.output.renderOutput(dataTable, element);\n",
       "        const docLink = document.createElement('div');\n",
       "        docLink.innerHTML = docLinkHtml;\n",
       "        element.appendChild(docLink);\n",
       "      }\n",
       "    </script>\n",
       "  </div>\n",
       "\n",
       "\n",
       "    <div id=\"df-0cbe35f2-1078-43dc-a34d-a2a6b434ecad\">\n",
       "      <button class=\"colab-df-quickchart\" onclick=\"quickchart('df-0cbe35f2-1078-43dc-a34d-a2a6b434ecad')\"\n",
       "                title=\"Suggest charts\"\n",
       "                style=\"display:none;\">\n",
       "\n",
       "<svg xmlns=\"http://www.w3.org/2000/svg\" height=\"24px\"viewBox=\"0 0 24 24\"\n",
       "     width=\"24px\">\n",
       "    <g>\n",
       "        <path d=\"M19 3H5c-1.1 0-2 .9-2 2v14c0 1.1.9 2 2 2h14c1.1 0 2-.9 2-2V5c0-1.1-.9-2-2-2zM9 17H7v-7h2v7zm4 0h-2V7h2v10zm4 0h-2v-4h2v4z\"/>\n",
       "    </g>\n",
       "</svg>\n",
       "      </button>\n",
       "\n",
       "<style>\n",
       "  .colab-df-quickchart {\n",
       "      --bg-color: #E8F0FE;\n",
       "      --fill-color: #1967D2;\n",
       "      --hover-bg-color: #E2EBFA;\n",
       "      --hover-fill-color: #174EA6;\n",
       "      --disabled-fill-color: #AAA;\n",
       "      --disabled-bg-color: #DDD;\n",
       "  }\n",
       "\n",
       "  [theme=dark] .colab-df-quickchart {\n",
       "      --bg-color: #3B4455;\n",
       "      --fill-color: #D2E3FC;\n",
       "      --hover-bg-color: #434B5C;\n",
       "      --hover-fill-color: #FFFFFF;\n",
       "      --disabled-bg-color: #3B4455;\n",
       "      --disabled-fill-color: #666;\n",
       "  }\n",
       "\n",
       "  .colab-df-quickchart {\n",
       "    background-color: var(--bg-color);\n",
       "    border: none;\n",
       "    border-radius: 50%;\n",
       "    cursor: pointer;\n",
       "    display: none;\n",
       "    fill: var(--fill-color);\n",
       "    height: 32px;\n",
       "    padding: 0;\n",
       "    width: 32px;\n",
       "  }\n",
       "\n",
       "  .colab-df-quickchart:hover {\n",
       "    background-color: var(--hover-bg-color);\n",
       "    box-shadow: 0 1px 2px rgba(60, 64, 67, 0.3), 0 1px 3px 1px rgba(60, 64, 67, 0.15);\n",
       "    fill: var(--button-hover-fill-color);\n",
       "  }\n",
       "\n",
       "  .colab-df-quickchart-complete:disabled,\n",
       "  .colab-df-quickchart-complete:disabled:hover {\n",
       "    background-color: var(--disabled-bg-color);\n",
       "    fill: var(--disabled-fill-color);\n",
       "    box-shadow: none;\n",
       "  }\n",
       "\n",
       "  .colab-df-spinner {\n",
       "    border: 2px solid var(--fill-color);\n",
       "    border-color: transparent;\n",
       "    border-bottom-color: var(--fill-color);\n",
       "    animation:\n",
       "      spin 1s steps(1) infinite;\n",
       "  }\n",
       "\n",
       "  @keyframes spin {\n",
       "    0% {\n",
       "      border-color: transparent;\n",
       "      border-bottom-color: var(--fill-color);\n",
       "      border-left-color: var(--fill-color);\n",
       "    }\n",
       "    20% {\n",
       "      border-color: transparent;\n",
       "      border-left-color: var(--fill-color);\n",
       "      border-top-color: var(--fill-color);\n",
       "    }\n",
       "    30% {\n",
       "      border-color: transparent;\n",
       "      border-left-color: var(--fill-color);\n",
       "      border-top-color: var(--fill-color);\n",
       "      border-right-color: var(--fill-color);\n",
       "    }\n",
       "    40% {\n",
       "      border-color: transparent;\n",
       "      border-right-color: var(--fill-color);\n",
       "      border-top-color: var(--fill-color);\n",
       "    }\n",
       "    60% {\n",
       "      border-color: transparent;\n",
       "      border-right-color: var(--fill-color);\n",
       "    }\n",
       "    80% {\n",
       "      border-color: transparent;\n",
       "      border-right-color: var(--fill-color);\n",
       "      border-bottom-color: var(--fill-color);\n",
       "    }\n",
       "    90% {\n",
       "      border-color: transparent;\n",
       "      border-bottom-color: var(--fill-color);\n",
       "    }\n",
       "  }\n",
       "</style>\n",
       "\n",
       "      <script>\n",
       "        async function quickchart(key) {\n",
       "          const quickchartButtonEl =\n",
       "            document.querySelector('#' + key + ' button');\n",
       "          quickchartButtonEl.disabled = true;  // To prevent multiple clicks.\n",
       "          quickchartButtonEl.classList.add('colab-df-spinner');\n",
       "          try {\n",
       "            const charts = await google.colab.kernel.invokeFunction(\n",
       "                'suggestCharts', [key], {});\n",
       "          } catch (error) {\n",
       "            console.error('Error during call to suggestCharts:', error);\n",
       "          }\n",
       "          quickchartButtonEl.classList.remove('colab-df-spinner');\n",
       "          quickchartButtonEl.classList.add('colab-df-quickchart-complete');\n",
       "        }\n",
       "        (() => {\n",
       "          let quickchartButtonEl =\n",
       "            document.querySelector('#df-0cbe35f2-1078-43dc-a34d-a2a6b434ecad button');\n",
       "          quickchartButtonEl.style.display =\n",
       "            google.colab.kernel.accessAllowed ? 'block' : 'none';\n",
       "        })();\n",
       "      </script>\n",
       "    </div>\n",
       "\n",
       "    </div>\n",
       "  </div>\n"
      ],
      "text/plain": [
       "        Age  Class  Flight.Distance  Departure.Arrival.time.convenient  \\\n",
       "0  0.076923    0.5         0.081997                                0.8   \n",
       "1  0.230769    1.0         0.036330                                0.4   \n",
       "2  0.243590    1.0         0.220418                                0.4   \n",
       "3  0.230769    1.0         0.102699                                1.0   \n",
       "4  0.692308    1.0         0.032068                                0.6   \n",
       "\n",
       "   Ease.of.Online.booking  Gate.location  Food.and.drink  Online.boarding  \\\n",
       "0                     0.6            0.2             1.0              0.6   \n",
       "1                     0.6            0.6             0.2              0.6   \n",
       "2                     0.4            0.4             1.0              1.0   \n",
       "3                     1.0            1.0             0.4              0.4   \n",
       "4                     0.6            0.6             0.8              1.0   \n",
       "\n",
       "   Seat.comfort  Inflight.entertainment  ...  Leg.room.service  \\\n",
       "0           1.0                     1.0  ...               0.6   \n",
       "1           0.2                     0.2  ...               1.0   \n",
       "2           1.0                     1.0  ...               0.6   \n",
       "3           0.4                     0.4  ...               1.0   \n",
       "4           1.0                     0.6  ...               0.8   \n",
       "\n",
       "   Baggage.handling  Checkin.service  Inflight.service  Cleanliness  \\\n",
       "0              0.75              0.8               1.0          1.0   \n",
       "1              0.50              0.2               0.8          0.2   \n",
       "2              0.75              0.8               0.8          1.0   \n",
       "3              0.50              0.2               0.8          0.4   \n",
       "4              0.75              0.6               0.6          0.6   \n",
       "\n",
       "   Arrival.Delay.in.Minutes  satisfaction  Gender_Male  \\\n",
       "0                  0.032086             0            1   \n",
       "1                  0.010695             0            0   \n",
       "2                  0.000000             1            0   \n",
       "3                  0.016043             0            0   \n",
       "4                  0.000000             1            0   \n",
       "\n",
       "   Customer.Type_disloyal.Customer  Type.of.Travel_Personal.Travel  \n",
       "0                                0                               1  \n",
       "1                                1                               0  \n",
       "2                                0                               0  \n",
       "3                                0                               0  \n",
       "4                                0                               0  \n",
       "\n",
       "[5 rows x 21 columns]"
      ]
     },
     "execution_count": 4,
     "metadata": {},
     "output_type": "execute_result"
    }
   ],
   "source": [
    "data.head()"
   ]
  },
  {
   "cell_type": "code",
   "execution_count": 5,
   "metadata": {
    "colab": {
     "base_uri": "https://localhost:8080/"
    },
    "executionInfo": {
     "elapsed": 55,
     "status": "ok",
     "timestamp": 1750423362365,
     "user": {
      "displayName": "Baran Kılınç",
      "userId": "15668208283949447064"
     },
     "user_tz": -180
    },
    "id": "-LeEiqrW9vgq",
    "outputId": "f30eb896-b4a0-4125-980f-0ad726b6c61f"
   },
   "outputs": [
    {
     "data": {
      "text/plain": [
       "np.int64(0)"
      ]
     },
     "execution_count": 5,
     "metadata": {},
     "output_type": "execute_result"
    }
   ],
   "source": [
    "missingValues = data.isna().sum().sum()\n",
    "missingValues"
   ]
  },
  {
   "cell_type": "code",
   "execution_count": 6,
   "metadata": {
    "colab": {
     "base_uri": "https://localhost:8080/"
    },
    "executionInfo": {
     "elapsed": 33,
     "status": "ok",
     "timestamp": 1750423363298,
     "user": {
      "displayName": "Baran Kılınç",
      "userId": "15668208283949447064"
     },
     "user_tz": -180
    },
    "id": "pZwSO0QN92uH",
    "outputId": "41c0bcf5-4cc5-4b18-e763-97f34c3a12e1"
   },
   "outputs": [
    {
     "name": "stdout",
     "output_type": "stream",
     "text": [
      "data shape: (103386, 21)\n"
     ]
    }
   ],
   "source": [
    "print(\"data shape:\", data.shape)"
   ]
  },
  {
   "cell_type": "code",
   "execution_count": 7,
   "metadata": {
    "colab": {
     "base_uri": "https://localhost:8080/",
     "height": 350
    },
    "executionInfo": {
     "elapsed": 212,
     "status": "ok",
     "timestamp": 1750423364436,
     "user": {
      "displayName": "Baran Kılınç",
      "userId": "15668208283949447064"
     },
     "user_tz": -180
    },
    "id": "KsAGXENp-KIJ",
    "outputId": "ca3436a6-df2a-4e7e-f9a2-1272a79747cb"
   },
   "outputs": [
    {
     "data": {
      "application/vnd.google.colaboratory.intrinsic+json": {
       "type": "dataframe"
      },
      "text/html": [
       "\n",
       "  <div id=\"df-6ed5979c-ea36-4d22-b249-910a19207585\" class=\"colab-df-container\">\n",
       "    <div>\n",
       "<style scoped>\n",
       "    .dataframe tbody tr th:only-of-type {\n",
       "        vertical-align: middle;\n",
       "    }\n",
       "\n",
       "    .dataframe tbody tr th {\n",
       "        vertical-align: top;\n",
       "    }\n",
       "\n",
       "    .dataframe thead th {\n",
       "        text-align: right;\n",
       "    }\n",
       "</style>\n",
       "<table border=\"1\" class=\"dataframe\">\n",
       "  <thead>\n",
       "    <tr style=\"text-align: right;\">\n",
       "      <th></th>\n",
       "      <th>Age</th>\n",
       "      <th>Class</th>\n",
       "      <th>Flight.Distance</th>\n",
       "      <th>Departure.Arrival.time.convenient</th>\n",
       "      <th>Ease.of.Online.booking</th>\n",
       "      <th>Gate.location</th>\n",
       "      <th>Food.and.drink</th>\n",
       "      <th>Online.boarding</th>\n",
       "      <th>Seat.comfort</th>\n",
       "      <th>Inflight.entertainment</th>\n",
       "      <th>...</th>\n",
       "      <th>Leg.room.service</th>\n",
       "      <th>Baggage.handling</th>\n",
       "      <th>Checkin.service</th>\n",
       "      <th>Inflight.service</th>\n",
       "      <th>Cleanliness</th>\n",
       "      <th>Arrival.Delay.in.Minutes</th>\n",
       "      <th>satisfaction</th>\n",
       "      <th>Gender_Male</th>\n",
       "      <th>Customer.Type_disloyal.Customer</th>\n",
       "      <th>Type.of.Travel_Personal.Travel</th>\n",
       "    </tr>\n",
       "  </thead>\n",
       "  <tbody>\n",
       "    <tr>\n",
       "      <th>count</th>\n",
       "      <td>103386.000000</td>\n",
       "      <td>103386.000000</td>\n",
       "      <td>103386.000000</td>\n",
       "      <td>103386.000000</td>\n",
       "      <td>103386.000000</td>\n",
       "      <td>103386.000000</td>\n",
       "      <td>103386.000000</td>\n",
       "      <td>103386.000000</td>\n",
       "      <td>103386.000000</td>\n",
       "      <td>103386.000000</td>\n",
       "      <td>...</td>\n",
       "      <td>103386.000000</td>\n",
       "      <td>103386.000000</td>\n",
       "      <td>103386.000000</td>\n",
       "      <td>103386.000000</td>\n",
       "      <td>103386.000000</td>\n",
       "      <td>103386.000000</td>\n",
       "      <td>103386.000000</td>\n",
       "      <td>103386.000000</td>\n",
       "      <td>103386.000000</td>\n",
       "      <td>103386.000000</td>\n",
       "    </tr>\n",
       "    <tr>\n",
       "      <th>mean</th>\n",
       "      <td>0.414448</td>\n",
       "      <td>0.513740</td>\n",
       "      <td>0.229616</td>\n",
       "      <td>0.611744</td>\n",
       "      <td>0.551249</td>\n",
       "      <td>0.595216</td>\n",
       "      <td>0.640245</td>\n",
       "      <td>0.650233</td>\n",
       "      <td>0.688323</td>\n",
       "      <td>0.671996</td>\n",
       "      <td>...</td>\n",
       "      <td>0.670458</td>\n",
       "      <td>0.658007</td>\n",
       "      <td>0.660805</td>\n",
       "      <td>0.728352</td>\n",
       "      <td>0.657377</td>\n",
       "      <td>0.026670</td>\n",
       "      <td>0.433627</td>\n",
       "      <td>0.492378</td>\n",
       "      <td>0.182955</td>\n",
       "      <td>0.310593</td>\n",
       "    </tr>\n",
       "    <tr>\n",
       "      <th>std</th>\n",
       "      <td>0.192949</td>\n",
       "      <td>0.481422</td>\n",
       "      <td>0.201990</td>\n",
       "      <td>0.305205</td>\n",
       "      <td>0.279828</td>\n",
       "      <td>0.255554</td>\n",
       "      <td>0.265929</td>\n",
       "      <td>0.269981</td>\n",
       "      <td>0.263745</td>\n",
       "      <td>0.266569</td>\n",
       "      <td>...</td>\n",
       "      <td>0.263151</td>\n",
       "      <td>0.295230</td>\n",
       "      <td>0.252912</td>\n",
       "      <td>0.234942</td>\n",
       "      <td>0.262456</td>\n",
       "      <td>0.064918</td>\n",
       "      <td>0.495577</td>\n",
       "      <td>0.499944</td>\n",
       "      <td>0.386632</td>\n",
       "      <td>0.462739</td>\n",
       "    </tr>\n",
       "    <tr>\n",
       "      <th>min</th>\n",
       "      <td>0.000000</td>\n",
       "      <td>0.000000</td>\n",
       "      <td>0.000000</td>\n",
       "      <td>0.000000</td>\n",
       "      <td>0.000000</td>\n",
       "      <td>0.000000</td>\n",
       "      <td>0.000000</td>\n",
       "      <td>0.000000</td>\n",
       "      <td>0.000000</td>\n",
       "      <td>0.000000</td>\n",
       "      <td>...</td>\n",
       "      <td>0.000000</td>\n",
       "      <td>0.000000</td>\n",
       "      <td>0.000000</td>\n",
       "      <td>0.000000</td>\n",
       "      <td>0.000000</td>\n",
       "      <td>0.000000</td>\n",
       "      <td>0.000000</td>\n",
       "      <td>0.000000</td>\n",
       "      <td>0.000000</td>\n",
       "      <td>0.000000</td>\n",
       "    </tr>\n",
       "    <tr>\n",
       "      <th>25%</th>\n",
       "      <td>0.256410</td>\n",
       "      <td>0.000000</td>\n",
       "      <td>0.072458</td>\n",
       "      <td>0.400000</td>\n",
       "      <td>0.400000</td>\n",
       "      <td>0.400000</td>\n",
       "      <td>0.400000</td>\n",
       "      <td>0.400000</td>\n",
       "      <td>0.400000</td>\n",
       "      <td>0.400000</td>\n",
       "      <td>...</td>\n",
       "      <td>0.400000</td>\n",
       "      <td>0.500000</td>\n",
       "      <td>0.600000</td>\n",
       "      <td>0.600000</td>\n",
       "      <td>0.400000</td>\n",
       "      <td>0.000000</td>\n",
       "      <td>0.000000</td>\n",
       "      <td>0.000000</td>\n",
       "      <td>0.000000</td>\n",
       "      <td>0.000000</td>\n",
       "    </tr>\n",
       "    <tr>\n",
       "      <th>50%</th>\n",
       "      <td>0.423077</td>\n",
       "      <td>0.500000</td>\n",
       "      <td>0.159529</td>\n",
       "      <td>0.600000</td>\n",
       "      <td>0.600000</td>\n",
       "      <td>0.600000</td>\n",
       "      <td>0.600000</td>\n",
       "      <td>0.600000</td>\n",
       "      <td>0.800000</td>\n",
       "      <td>0.800000</td>\n",
       "      <td>...</td>\n",
       "      <td>0.800000</td>\n",
       "      <td>0.750000</td>\n",
       "      <td>0.600000</td>\n",
       "      <td>0.800000</td>\n",
       "      <td>0.600000</td>\n",
       "      <td>0.000000</td>\n",
       "      <td>0.000000</td>\n",
       "      <td>0.000000</td>\n",
       "      <td>0.000000</td>\n",
       "      <td>0.000000</td>\n",
       "    </tr>\n",
       "    <tr>\n",
       "      <th>75%</th>\n",
       "      <td>0.564103</td>\n",
       "      <td>1.000000</td>\n",
       "      <td>0.341587</td>\n",
       "      <td>0.800000</td>\n",
       "      <td>0.800000</td>\n",
       "      <td>0.800000</td>\n",
       "      <td>0.800000</td>\n",
       "      <td>0.800000</td>\n",
       "      <td>1.000000</td>\n",
       "      <td>0.800000</td>\n",
       "      <td>...</td>\n",
       "      <td>0.800000</td>\n",
       "      <td>1.000000</td>\n",
       "      <td>0.800000</td>\n",
       "      <td>1.000000</td>\n",
       "      <td>0.800000</td>\n",
       "      <td>0.023173</td>\n",
       "      <td>1.000000</td>\n",
       "      <td>1.000000</td>\n",
       "      <td>0.000000</td>\n",
       "      <td>1.000000</td>\n",
       "    </tr>\n",
       "    <tr>\n",
       "      <th>max</th>\n",
       "      <td>1.000000</td>\n",
       "      <td>1.000000</td>\n",
       "      <td>1.000000</td>\n",
       "      <td>1.000000</td>\n",
       "      <td>1.000000</td>\n",
       "      <td>1.000000</td>\n",
       "      <td>1.000000</td>\n",
       "      <td>1.000000</td>\n",
       "      <td>1.000000</td>\n",
       "      <td>1.000000</td>\n",
       "      <td>...</td>\n",
       "      <td>1.000000</td>\n",
       "      <td>1.000000</td>\n",
       "      <td>1.000000</td>\n",
       "      <td>1.000000</td>\n",
       "      <td>1.000000</td>\n",
       "      <td>1.000000</td>\n",
       "      <td>1.000000</td>\n",
       "      <td>1.000000</td>\n",
       "      <td>1.000000</td>\n",
       "      <td>1.000000</td>\n",
       "    </tr>\n",
       "  </tbody>\n",
       "</table>\n",
       "<p>8 rows × 21 columns</p>\n",
       "</div>\n",
       "    <div class=\"colab-df-buttons\">\n",
       "\n",
       "  <div class=\"colab-df-container\">\n",
       "    <button class=\"colab-df-convert\" onclick=\"convertToInteractive('df-6ed5979c-ea36-4d22-b249-910a19207585')\"\n",
       "            title=\"Convert this dataframe to an interactive table.\"\n",
       "            style=\"display:none;\">\n",
       "\n",
       "  <svg xmlns=\"http://www.w3.org/2000/svg\" height=\"24px\" viewBox=\"0 -960 960 960\">\n",
       "    <path d=\"M120-120v-720h720v720H120Zm60-500h600v-160H180v160Zm220 220h160v-160H400v160Zm0 220h160v-160H400v160ZM180-400h160v-160H180v160Zm440 0h160v-160H620v160ZM180-180h160v-160H180v160Zm440 0h160v-160H620v160Z\"/>\n",
       "  </svg>\n",
       "    </button>\n",
       "\n",
       "  <style>\n",
       "    .colab-df-container {\n",
       "      display:flex;\n",
       "      gap: 12px;\n",
       "    }\n",
       "\n",
       "    .colab-df-convert {\n",
       "      background-color: #E8F0FE;\n",
       "      border: none;\n",
       "      border-radius: 50%;\n",
       "      cursor: pointer;\n",
       "      display: none;\n",
       "      fill: #1967D2;\n",
       "      height: 32px;\n",
       "      padding: 0 0 0 0;\n",
       "      width: 32px;\n",
       "    }\n",
       "\n",
       "    .colab-df-convert:hover {\n",
       "      background-color: #E2EBFA;\n",
       "      box-shadow: 0px 1px 2px rgba(60, 64, 67, 0.3), 0px 1px 3px 1px rgba(60, 64, 67, 0.15);\n",
       "      fill: #174EA6;\n",
       "    }\n",
       "\n",
       "    .colab-df-buttons div {\n",
       "      margin-bottom: 4px;\n",
       "    }\n",
       "\n",
       "    [theme=dark] .colab-df-convert {\n",
       "      background-color: #3B4455;\n",
       "      fill: #D2E3FC;\n",
       "    }\n",
       "\n",
       "    [theme=dark] .colab-df-convert:hover {\n",
       "      background-color: #434B5C;\n",
       "      box-shadow: 0px 1px 3px 1px rgba(0, 0, 0, 0.15);\n",
       "      filter: drop-shadow(0px 1px 2px rgba(0, 0, 0, 0.3));\n",
       "      fill: #FFFFFF;\n",
       "    }\n",
       "  </style>\n",
       "\n",
       "    <script>\n",
       "      const buttonEl =\n",
       "        document.querySelector('#df-6ed5979c-ea36-4d22-b249-910a19207585 button.colab-df-convert');\n",
       "      buttonEl.style.display =\n",
       "        google.colab.kernel.accessAllowed ? 'block' : 'none';\n",
       "\n",
       "      async function convertToInteractive(key) {\n",
       "        const element = document.querySelector('#df-6ed5979c-ea36-4d22-b249-910a19207585');\n",
       "        const dataTable =\n",
       "          await google.colab.kernel.invokeFunction('convertToInteractive',\n",
       "                                                    [key], {});\n",
       "        if (!dataTable) return;\n",
       "\n",
       "        const docLinkHtml = 'Like what you see? Visit the ' +\n",
       "          '<a target=\"_blank\" href=https://colab.research.google.com/notebooks/data_table.ipynb>data table notebook</a>'\n",
       "          + ' to learn more about interactive tables.';\n",
       "        element.innerHTML = '';\n",
       "        dataTable['output_type'] = 'display_data';\n",
       "        await google.colab.output.renderOutput(dataTable, element);\n",
       "        const docLink = document.createElement('div');\n",
       "        docLink.innerHTML = docLinkHtml;\n",
       "        element.appendChild(docLink);\n",
       "      }\n",
       "    </script>\n",
       "  </div>\n",
       "\n",
       "\n",
       "    <div id=\"df-7ee8d245-f374-4260-9205-dbd74a0a7656\">\n",
       "      <button class=\"colab-df-quickchart\" onclick=\"quickchart('df-7ee8d245-f374-4260-9205-dbd74a0a7656')\"\n",
       "                title=\"Suggest charts\"\n",
       "                style=\"display:none;\">\n",
       "\n",
       "<svg xmlns=\"http://www.w3.org/2000/svg\" height=\"24px\"viewBox=\"0 0 24 24\"\n",
       "     width=\"24px\">\n",
       "    <g>\n",
       "        <path d=\"M19 3H5c-1.1 0-2 .9-2 2v14c0 1.1.9 2 2 2h14c1.1 0 2-.9 2-2V5c0-1.1-.9-2-2-2zM9 17H7v-7h2v7zm4 0h-2V7h2v10zm4 0h-2v-4h2v4z\"/>\n",
       "    </g>\n",
       "</svg>\n",
       "      </button>\n",
       "\n",
       "<style>\n",
       "  .colab-df-quickchart {\n",
       "      --bg-color: #E8F0FE;\n",
       "      --fill-color: #1967D2;\n",
       "      --hover-bg-color: #E2EBFA;\n",
       "      --hover-fill-color: #174EA6;\n",
       "      --disabled-fill-color: #AAA;\n",
       "      --disabled-bg-color: #DDD;\n",
       "  }\n",
       "\n",
       "  [theme=dark] .colab-df-quickchart {\n",
       "      --bg-color: #3B4455;\n",
       "      --fill-color: #D2E3FC;\n",
       "      --hover-bg-color: #434B5C;\n",
       "      --hover-fill-color: #FFFFFF;\n",
       "      --disabled-bg-color: #3B4455;\n",
       "      --disabled-fill-color: #666;\n",
       "  }\n",
       "\n",
       "  .colab-df-quickchart {\n",
       "    background-color: var(--bg-color);\n",
       "    border: none;\n",
       "    border-radius: 50%;\n",
       "    cursor: pointer;\n",
       "    display: none;\n",
       "    fill: var(--fill-color);\n",
       "    height: 32px;\n",
       "    padding: 0;\n",
       "    width: 32px;\n",
       "  }\n",
       "\n",
       "  .colab-df-quickchart:hover {\n",
       "    background-color: var(--hover-bg-color);\n",
       "    box-shadow: 0 1px 2px rgba(60, 64, 67, 0.3), 0 1px 3px 1px rgba(60, 64, 67, 0.15);\n",
       "    fill: var(--button-hover-fill-color);\n",
       "  }\n",
       "\n",
       "  .colab-df-quickchart-complete:disabled,\n",
       "  .colab-df-quickchart-complete:disabled:hover {\n",
       "    background-color: var(--disabled-bg-color);\n",
       "    fill: var(--disabled-fill-color);\n",
       "    box-shadow: none;\n",
       "  }\n",
       "\n",
       "  .colab-df-spinner {\n",
       "    border: 2px solid var(--fill-color);\n",
       "    border-color: transparent;\n",
       "    border-bottom-color: var(--fill-color);\n",
       "    animation:\n",
       "      spin 1s steps(1) infinite;\n",
       "  }\n",
       "\n",
       "  @keyframes spin {\n",
       "    0% {\n",
       "      border-color: transparent;\n",
       "      border-bottom-color: var(--fill-color);\n",
       "      border-left-color: var(--fill-color);\n",
       "    }\n",
       "    20% {\n",
       "      border-color: transparent;\n",
       "      border-left-color: var(--fill-color);\n",
       "      border-top-color: var(--fill-color);\n",
       "    }\n",
       "    30% {\n",
       "      border-color: transparent;\n",
       "      border-left-color: var(--fill-color);\n",
       "      border-top-color: var(--fill-color);\n",
       "      border-right-color: var(--fill-color);\n",
       "    }\n",
       "    40% {\n",
       "      border-color: transparent;\n",
       "      border-right-color: var(--fill-color);\n",
       "      border-top-color: var(--fill-color);\n",
       "    }\n",
       "    60% {\n",
       "      border-color: transparent;\n",
       "      border-right-color: var(--fill-color);\n",
       "    }\n",
       "    80% {\n",
       "      border-color: transparent;\n",
       "      border-right-color: var(--fill-color);\n",
       "      border-bottom-color: var(--fill-color);\n",
       "    }\n",
       "    90% {\n",
       "      border-color: transparent;\n",
       "      border-bottom-color: var(--fill-color);\n",
       "    }\n",
       "  }\n",
       "</style>\n",
       "\n",
       "      <script>\n",
       "        async function quickchart(key) {\n",
       "          const quickchartButtonEl =\n",
       "            document.querySelector('#' + key + ' button');\n",
       "          quickchartButtonEl.disabled = true;  // To prevent multiple clicks.\n",
       "          quickchartButtonEl.classList.add('colab-df-spinner');\n",
       "          try {\n",
       "            const charts = await google.colab.kernel.invokeFunction(\n",
       "                'suggestCharts', [key], {});\n",
       "          } catch (error) {\n",
       "            console.error('Error during call to suggestCharts:', error);\n",
       "          }\n",
       "          quickchartButtonEl.classList.remove('colab-df-spinner');\n",
       "          quickchartButtonEl.classList.add('colab-df-quickchart-complete');\n",
       "        }\n",
       "        (() => {\n",
       "          let quickchartButtonEl =\n",
       "            document.querySelector('#df-7ee8d245-f374-4260-9205-dbd74a0a7656 button');\n",
       "          quickchartButtonEl.style.display =\n",
       "            google.colab.kernel.accessAllowed ? 'block' : 'none';\n",
       "        })();\n",
       "      </script>\n",
       "    </div>\n",
       "\n",
       "    </div>\n",
       "  </div>\n"
      ],
      "text/plain": [
       "                 Age          Class  Flight.Distance  \\\n",
       "count  103386.000000  103386.000000    103386.000000   \n",
       "mean        0.414448       0.513740         0.229616   \n",
       "std         0.192949       0.481422         0.201990   \n",
       "min         0.000000       0.000000         0.000000   \n",
       "25%         0.256410       0.000000         0.072458   \n",
       "50%         0.423077       0.500000         0.159529   \n",
       "75%         0.564103       1.000000         0.341587   \n",
       "max         1.000000       1.000000         1.000000   \n",
       "\n",
       "       Departure.Arrival.time.convenient  Ease.of.Online.booking  \\\n",
       "count                      103386.000000           103386.000000   \n",
       "mean                            0.611744                0.551249   \n",
       "std                             0.305205                0.279828   \n",
       "min                             0.000000                0.000000   \n",
       "25%                             0.400000                0.400000   \n",
       "50%                             0.600000                0.600000   \n",
       "75%                             0.800000                0.800000   \n",
       "max                             1.000000                1.000000   \n",
       "\n",
       "       Gate.location  Food.and.drink  Online.boarding   Seat.comfort  \\\n",
       "count  103386.000000   103386.000000    103386.000000  103386.000000   \n",
       "mean        0.595216        0.640245         0.650233       0.688323   \n",
       "std         0.255554        0.265929         0.269981       0.263745   \n",
       "min         0.000000        0.000000         0.000000       0.000000   \n",
       "25%         0.400000        0.400000         0.400000       0.400000   \n",
       "50%         0.600000        0.600000         0.600000       0.800000   \n",
       "75%         0.800000        0.800000         0.800000       1.000000   \n",
       "max         1.000000        1.000000         1.000000       1.000000   \n",
       "\n",
       "       Inflight.entertainment  ...  Leg.room.service  Baggage.handling  \\\n",
       "count           103386.000000  ...     103386.000000     103386.000000   \n",
       "mean                 0.671996  ...          0.670458          0.658007   \n",
       "std                  0.266569  ...          0.263151          0.295230   \n",
       "min                  0.000000  ...          0.000000          0.000000   \n",
       "25%                  0.400000  ...          0.400000          0.500000   \n",
       "50%                  0.800000  ...          0.800000          0.750000   \n",
       "75%                  0.800000  ...          0.800000          1.000000   \n",
       "max                  1.000000  ...          1.000000          1.000000   \n",
       "\n",
       "       Checkin.service  Inflight.service    Cleanliness  \\\n",
       "count    103386.000000     103386.000000  103386.000000   \n",
       "mean          0.660805          0.728352       0.657377   \n",
       "std           0.252912          0.234942       0.262456   \n",
       "min           0.000000          0.000000       0.000000   \n",
       "25%           0.600000          0.600000       0.400000   \n",
       "50%           0.600000          0.800000       0.600000   \n",
       "75%           0.800000          1.000000       0.800000   \n",
       "max           1.000000          1.000000       1.000000   \n",
       "\n",
       "       Arrival.Delay.in.Minutes   satisfaction    Gender_Male  \\\n",
       "count             103386.000000  103386.000000  103386.000000   \n",
       "mean                   0.026670       0.433627       0.492378   \n",
       "std                    0.064918       0.495577       0.499944   \n",
       "min                    0.000000       0.000000       0.000000   \n",
       "25%                    0.000000       0.000000       0.000000   \n",
       "50%                    0.000000       0.000000       0.000000   \n",
       "75%                    0.023173       1.000000       1.000000   \n",
       "max                    1.000000       1.000000       1.000000   \n",
       "\n",
       "       Customer.Type_disloyal.Customer  Type.of.Travel_Personal.Travel  \n",
       "count                    103386.000000                   103386.000000  \n",
       "mean                          0.182955                        0.310593  \n",
       "std                           0.386632                        0.462739  \n",
       "min                           0.000000                        0.000000  \n",
       "25%                           0.000000                        0.000000  \n",
       "50%                           0.000000                        0.000000  \n",
       "75%                           0.000000                        1.000000  \n",
       "max                           1.000000                        1.000000  \n",
       "\n",
       "[8 rows x 21 columns]"
      ]
     },
     "execution_count": 7,
     "metadata": {},
     "output_type": "execute_result"
    }
   ],
   "source": [
    "data.describe()"
   ]
  },
  {
   "cell_type": "code",
   "execution_count": 8,
   "metadata": {
    "executionInfo": {
     "elapsed": 10,
     "status": "ok",
     "timestamp": 1750423366551,
     "user": {
      "displayName": "Baran Kılınç",
      "userId": "15668208283949447064"
     },
     "user_tz": -180
    },
    "id": "_GiGAnLQ-9V_"
   },
   "outputs": [],
   "source": [
    "#Cross Validation"
   ]
  },
  {
   "cell_type": "code",
   "execution_count": 9,
   "metadata": {
    "executionInfo": {
     "elapsed": 19,
     "status": "ok",
     "timestamp": 1750423368412,
     "user": {
      "displayName": "Baran Kılınç",
      "userId": "15668208283949447064"
     },
     "user_tz": -180
    },
    "id": "00nzggPX-MTI"
   },
   "outputs": [],
   "source": [
    "X = data.drop(\"satisfaction\", axis=1)\n",
    "y = data[\"satisfaction\"]"
   ]
  },
  {
   "cell_type": "code",
   "execution_count": 10,
   "metadata": {
    "executionInfo": {
     "elapsed": 117,
     "status": "ok",
     "timestamp": 1750423394640,
     "user": {
      "displayName": "Baran Kılınç",
      "userId": "15668208283949447064"
     },
     "user_tz": -180
    },
    "id": "23BQdWX1_A-E"
   },
   "outputs": [],
   "source": [
    "X_train, X_test, y_train, y_test = train_test_split(\n",
    "    X, y, test_size=0.2, random_state=412, stratify=y\n",
    ")"
   ]
  },
  {
   "cell_type": "code",
   "execution_count": 11,
   "metadata": {
    "colab": {
     "base_uri": "https://localhost:8080/"
    },
    "executionInfo": {
     "elapsed": 30,
     "status": "ok",
     "timestamp": 1750423397160,
     "user": {
      "displayName": "Baran Kılınç",
      "userId": "15668208283949447064"
     },
     "user_tz": -180
    },
    "id": "FC-8Udrw_Pb2",
    "outputId": "89da335c-f094-498c-ea59-ffdaa593f89c"
   },
   "outputs": [
    {
     "data": {
      "text/plain": [
       "(82708, 20)"
      ]
     },
     "execution_count": 11,
     "metadata": {},
     "output_type": "execute_result"
    }
   ],
   "source": [
    "X_train.shape"
   ]
  },
  {
   "cell_type": "code",
   "execution_count": 12,
   "metadata": {
    "colab": {
     "base_uri": "https://localhost:8080/"
    },
    "executionInfo": {
     "elapsed": 25,
     "status": "ok",
     "timestamp": 1750423398154,
     "user": {
      "displayName": "Baran Kılınç",
      "userId": "15668208283949447064"
     },
     "user_tz": -180
    },
    "id": "E9wzL7YI_j2Z",
    "outputId": "c290e756-2116-41e0-c14e-1a84046fd16a"
   },
   "outputs": [
    {
     "data": {
      "text/plain": [
       "(82708,)"
      ]
     },
     "execution_count": 12,
     "metadata": {},
     "output_type": "execute_result"
    }
   ],
   "source": [
    "y_train.shape"
   ]
  },
  {
   "cell_type": "code",
   "execution_count": 13,
   "metadata": {
    "colab": {
     "base_uri": "https://localhost:8080/"
    },
    "executionInfo": {
     "elapsed": 17,
     "status": "ok",
     "timestamp": 1750423399438,
     "user": {
      "displayName": "Baran Kılınç",
      "userId": "15668208283949447064"
     },
     "user_tz": -180
    },
    "id": "HeNcbvy-_x7M",
    "outputId": "02a45c17-0fa7-4e0a-f449-93e1e9274b74"
   },
   "outputs": [
    {
     "data": {
      "text/plain": [
       "(20678,)"
      ]
     },
     "execution_count": 13,
     "metadata": {},
     "output_type": "execute_result"
    }
   ],
   "source": [
    "y_test.shape"
   ]
  },
  {
   "cell_type": "code",
   "execution_count": 14,
   "metadata": {
    "colab": {
     "base_uri": "https://localhost:8080/",
     "height": 241
    },
    "executionInfo": {
     "elapsed": 11,
     "status": "ok",
     "timestamp": 1750423401995,
     "user": {
      "displayName": "Baran Kılınç",
      "userId": "15668208283949447064"
     },
     "user_tz": -180
    },
    "id": "g8MPGUjF_0_z",
    "outputId": "65fb6b2d-0cb6-4d30-c87e-3df077097869"
   },
   "outputs": [
    {
     "data": {
      "text/html": [
       "<div>\n",
       "<style scoped>\n",
       "    .dataframe tbody tr th:only-of-type {\n",
       "        vertical-align: middle;\n",
       "    }\n",
       "\n",
       "    .dataframe tbody tr th {\n",
       "        vertical-align: top;\n",
       "    }\n",
       "\n",
       "    .dataframe thead th {\n",
       "        text-align: right;\n",
       "    }\n",
       "</style>\n",
       "<table border=\"1\" class=\"dataframe\">\n",
       "  <thead>\n",
       "    <tr style=\"text-align: right;\">\n",
       "      <th></th>\n",
       "      <th>satisfaction</th>\n",
       "    </tr>\n",
       "  </thead>\n",
       "  <tbody>\n",
       "    <tr>\n",
       "      <th>10958</th>\n",
       "      <td>0</td>\n",
       "    </tr>\n",
       "    <tr>\n",
       "      <th>74820</th>\n",
       "      <td>1</td>\n",
       "    </tr>\n",
       "    <tr>\n",
       "      <th>76378</th>\n",
       "      <td>0</td>\n",
       "    </tr>\n",
       "    <tr>\n",
       "      <th>44342</th>\n",
       "      <td>1</td>\n",
       "    </tr>\n",
       "    <tr>\n",
       "      <th>30602</th>\n",
       "      <td>0</td>\n",
       "    </tr>\n",
       "  </tbody>\n",
       "</table>\n",
       "</div><br><label><b>dtype:</b> int64</label>"
      ],
      "text/plain": [
       "10958    0\n",
       "74820    1\n",
       "76378    0\n",
       "44342    1\n",
       "30602    0\n",
       "Name: satisfaction, dtype: int64"
      ]
     },
     "execution_count": 14,
     "metadata": {},
     "output_type": "execute_result"
    }
   ],
   "source": [
    "y_test.head()"
   ]
  },
  {
   "cell_type": "code",
   "execution_count": 15,
   "metadata": {
    "executionInfo": {
     "elapsed": 3,
     "status": "ok",
     "timestamp": 1750423404806,
     "user": {
      "displayName": "Baran Kılınç",
      "userId": "15668208283949447064"
     },
     "user_tz": -180
    },
    "id": "CM1WyMgh_7bF"
   },
   "outputs": [],
   "source": [
    "#Modelling"
   ]
  },
  {
   "cell_type": "code",
   "execution_count": 16,
   "metadata": {
    "executionInfo": {
     "elapsed": 2,
     "status": "ok",
     "timestamp": 1750423405673,
     "user": {
      "displayName": "Baran Kılınç",
      "userId": "15668208283949447064"
     },
     "user_tz": -180
    },
    "id": "Wr9AXoArBYwB"
   },
   "outputs": [],
   "source": [
    "#logistic regression"
   ]
  },
  {
   "cell_type": "code",
   "execution_count": 17,
   "metadata": {
    "executionInfo": {
     "elapsed": 44,
     "status": "ok",
     "timestamp": 1750423407450,
     "user": {
      "displayName": "Baran Kılınç",
      "userId": "15668208283949447064"
     },
     "user_tz": -180
    },
    "id": "EcDBqlvVBh-c"
   },
   "outputs": [],
   "source": [
    "X_train_const = add_constant(X_train)"
   ]
  },
  {
   "cell_type": "code",
   "execution_count": 18,
   "metadata": {
    "executionInfo": {
     "elapsed": 3067,
     "status": "ok",
     "timestamp": 1750423411561,
     "user": {
      "displayName": "Baran Kılınç",
      "userId": "15668208283949447064"
     },
     "user_tz": -180
    },
    "id": "bm1wFbsfD8-s"
   },
   "outputs": [],
   "source": [
    "vif_df = pd.DataFrame()\n",
    "vif_df[\"Feature\"] = X_train_const.columns\n",
    "vif_df[\"VIF\"] = [variance_inflation_factor(X_train_const.values, i) for i in range(X_train_const.shape[1])]"
   ]
  },
  {
   "cell_type": "code",
   "execution_count": 19,
   "metadata": {
    "colab": {
     "base_uri": "https://localhost:8080/"
    },
    "executionInfo": {
     "elapsed": 7,
     "status": "ok",
     "timestamp": 1750423418996,
     "user": {
      "displayName": "Baran Kılınç",
      "userId": "15668208283949447064"
     },
     "user_tz": -180
    },
    "id": "eLp4NVoAD9Cf",
    "outputId": "95b4decd-1662-4a14-d713-62d45af08f40"
   },
   "outputs": [
    {
     "name": "stdout",
     "output_type": "stream",
     "text": [
      "                              Feature        VIF\n",
      "0                               const  42.793769\n",
      "1                                 Age   1.161497\n",
      "2                               Class   1.934038\n",
      "3                     Flight.Distance   1.340950\n",
      "4   Departure.Arrival.time.convenient   1.656691\n",
      "5              Ease.of.Online.booking   1.938271\n",
      "6                       Gate.location   1.507416\n",
      "7                      Food.and.drink   2.172350\n",
      "8                     Online.boarding   1.843943\n",
      "9                        Seat.comfort   2.389255\n",
      "10             Inflight.entertainment   3.830416\n",
      "11                   On.board.service   1.771021\n",
      "12                   Leg.room.service   1.307945\n",
      "13                   Baggage.handling   1.902359\n",
      "14                    Checkin.service   1.225584\n",
      "15                   Inflight.service   2.079427\n",
      "16                        Cleanliness   2.867768\n",
      "17           Arrival.Delay.in.Minutes   1.008428\n",
      "18                        Gender_Male   1.010677\n",
      "19    Customer.Type_disloyal.Customer   1.565460\n",
      "20     Type.of.Travel_Personal.Travel   2.067702\n"
     ]
    }
   ],
   "source": [
    "print(vif_df)"
   ]
  },
  {
   "cell_type": "code",
   "execution_count": 20,
   "metadata": {
    "executionInfo": {
     "elapsed": 16,
     "status": "ok",
     "timestamp": 1750423426354,
     "user": {
      "displayName": "Baran Kılınç",
      "userId": "15668208283949447064"
     },
     "user_tz": -180
    },
    "id": "0qc9Qg1ZStlt"
   },
   "outputs": [],
   "source": [
    "#Logistic regression model was successfully applied for satisfaction prediction. Among the variables found to be\n",
    "#significant in the model, factors such as seat comfort, ease of online boarding, in-flight service quality and\n",
    "# cleanliness stood out. Delays, loyalty status and travel purpose negatively affect satisfaction. There is no\n",
    "#multicollinearity in the model  (all VIF < 5). Flight.Distance and Food.and.drink variables were  not found to be\n",
    "#significant and were removed from the model.\n"
   ]
  },
  {
   "cell_type": "code",
   "execution_count": 21,
   "metadata": {
    "colab": {
     "base_uri": "https://localhost:8080/",
     "height": 80
    },
    "executionInfo": {
     "elapsed": 1275,
     "status": "ok",
     "timestamp": 1750423429018,
     "user": {
      "displayName": "Baran Kılınç",
      "userId": "15668208283949447064"
     },
     "user_tz": -180
    },
    "id": "D127yFvtD9Ez",
    "outputId": "18422135-7ae7-44cd-8966-0dbbd69dc52c"
   },
   "outputs": [
    {
     "data": {
      "text/html": [
       "<style>#sk-container-id-1 {\n",
       "  /* Definition of color scheme common for light and dark mode */\n",
       "  --sklearn-color-text: #000;\n",
       "  --sklearn-color-text-muted: #666;\n",
       "  --sklearn-color-line: gray;\n",
       "  /* Definition of color scheme for unfitted estimators */\n",
       "  --sklearn-color-unfitted-level-0: #fff5e6;\n",
       "  --sklearn-color-unfitted-level-1: #f6e4d2;\n",
       "  --sklearn-color-unfitted-level-2: #ffe0b3;\n",
       "  --sklearn-color-unfitted-level-3: chocolate;\n",
       "  /* Definition of color scheme for fitted estimators */\n",
       "  --sklearn-color-fitted-level-0: #f0f8ff;\n",
       "  --sklearn-color-fitted-level-1: #d4ebff;\n",
       "  --sklearn-color-fitted-level-2: #b3dbfd;\n",
       "  --sklearn-color-fitted-level-3: cornflowerblue;\n",
       "\n",
       "  /* Specific color for light theme */\n",
       "  --sklearn-color-text-on-default-background: var(--sg-text-color, var(--theme-code-foreground, var(--jp-content-font-color1, black)));\n",
       "  --sklearn-color-background: var(--sg-background-color, var(--theme-background, var(--jp-layout-color0, white)));\n",
       "  --sklearn-color-border-box: var(--sg-text-color, var(--theme-code-foreground, var(--jp-content-font-color1, black)));\n",
       "  --sklearn-color-icon: #696969;\n",
       "\n",
       "  @media (prefers-color-scheme: dark) {\n",
       "    /* Redefinition of color scheme for dark theme */\n",
       "    --sklearn-color-text-on-default-background: var(--sg-text-color, var(--theme-code-foreground, var(--jp-content-font-color1, white)));\n",
       "    --sklearn-color-background: var(--sg-background-color, var(--theme-background, var(--jp-layout-color0, #111)));\n",
       "    --sklearn-color-border-box: var(--sg-text-color, var(--theme-code-foreground, var(--jp-content-font-color1, white)));\n",
       "    --sklearn-color-icon: #878787;\n",
       "  }\n",
       "}\n",
       "\n",
       "#sk-container-id-1 {\n",
       "  color: var(--sklearn-color-text);\n",
       "}\n",
       "\n",
       "#sk-container-id-1 pre {\n",
       "  padding: 0;\n",
       "}\n",
       "\n",
       "#sk-container-id-1 input.sk-hidden--visually {\n",
       "  border: 0;\n",
       "  clip: rect(1px 1px 1px 1px);\n",
       "  clip: rect(1px, 1px, 1px, 1px);\n",
       "  height: 1px;\n",
       "  margin: -1px;\n",
       "  overflow: hidden;\n",
       "  padding: 0;\n",
       "  position: absolute;\n",
       "  width: 1px;\n",
       "}\n",
       "\n",
       "#sk-container-id-1 div.sk-dashed-wrapped {\n",
       "  border: 1px dashed var(--sklearn-color-line);\n",
       "  margin: 0 0.4em 0.5em 0.4em;\n",
       "  box-sizing: border-box;\n",
       "  padding-bottom: 0.4em;\n",
       "  background-color: var(--sklearn-color-background);\n",
       "}\n",
       "\n",
       "#sk-container-id-1 div.sk-container {\n",
       "  /* jupyter's `normalize.less` sets `[hidden] { display: none; }`\n",
       "     but bootstrap.min.css set `[hidden] { display: none !important; }`\n",
       "     so we also need the `!important` here to be able to override the\n",
       "     default hidden behavior on the sphinx rendered scikit-learn.org.\n",
       "     See: https://github.com/scikit-learn/scikit-learn/issues/21755 */\n",
       "  display: inline-block !important;\n",
       "  position: relative;\n",
       "}\n",
       "\n",
       "#sk-container-id-1 div.sk-text-repr-fallback {\n",
       "  display: none;\n",
       "}\n",
       "\n",
       "div.sk-parallel-item,\n",
       "div.sk-serial,\n",
       "div.sk-item {\n",
       "  /* draw centered vertical line to link estimators */\n",
       "  background-image: linear-gradient(var(--sklearn-color-text-on-default-background), var(--sklearn-color-text-on-default-background));\n",
       "  background-size: 2px 100%;\n",
       "  background-repeat: no-repeat;\n",
       "  background-position: center center;\n",
       "}\n",
       "\n",
       "/* Parallel-specific style estimator block */\n",
       "\n",
       "#sk-container-id-1 div.sk-parallel-item::after {\n",
       "  content: \"\";\n",
       "  width: 100%;\n",
       "  border-bottom: 2px solid var(--sklearn-color-text-on-default-background);\n",
       "  flex-grow: 1;\n",
       "}\n",
       "\n",
       "#sk-container-id-1 div.sk-parallel {\n",
       "  display: flex;\n",
       "  align-items: stretch;\n",
       "  justify-content: center;\n",
       "  background-color: var(--sklearn-color-background);\n",
       "  position: relative;\n",
       "}\n",
       "\n",
       "#sk-container-id-1 div.sk-parallel-item {\n",
       "  display: flex;\n",
       "  flex-direction: column;\n",
       "}\n",
       "\n",
       "#sk-container-id-1 div.sk-parallel-item:first-child::after {\n",
       "  align-self: flex-end;\n",
       "  width: 50%;\n",
       "}\n",
       "\n",
       "#sk-container-id-1 div.sk-parallel-item:last-child::after {\n",
       "  align-self: flex-start;\n",
       "  width: 50%;\n",
       "}\n",
       "\n",
       "#sk-container-id-1 div.sk-parallel-item:only-child::after {\n",
       "  width: 0;\n",
       "}\n",
       "\n",
       "/* Serial-specific style estimator block */\n",
       "\n",
       "#sk-container-id-1 div.sk-serial {\n",
       "  display: flex;\n",
       "  flex-direction: column;\n",
       "  align-items: center;\n",
       "  background-color: var(--sklearn-color-background);\n",
       "  padding-right: 1em;\n",
       "  padding-left: 1em;\n",
       "}\n",
       "\n",
       "\n",
       "/* Toggleable style: style used for estimator/Pipeline/ColumnTransformer box that is\n",
       "clickable and can be expanded/collapsed.\n",
       "- Pipeline and ColumnTransformer use this feature and define the default style\n",
       "- Estimators will overwrite some part of the style using the `sk-estimator` class\n",
       "*/\n",
       "\n",
       "/* Pipeline and ColumnTransformer style (default) */\n",
       "\n",
       "#sk-container-id-1 div.sk-toggleable {\n",
       "  /* Default theme specific background. It is overwritten whether we have a\n",
       "  specific estimator or a Pipeline/ColumnTransformer */\n",
       "  background-color: var(--sklearn-color-background);\n",
       "}\n",
       "\n",
       "/* Toggleable label */\n",
       "#sk-container-id-1 label.sk-toggleable__label {\n",
       "  cursor: pointer;\n",
       "  display: flex;\n",
       "  width: 100%;\n",
       "  margin-bottom: 0;\n",
       "  padding: 0.5em;\n",
       "  box-sizing: border-box;\n",
       "  text-align: center;\n",
       "  align-items: start;\n",
       "  justify-content: space-between;\n",
       "  gap: 0.5em;\n",
       "}\n",
       "\n",
       "#sk-container-id-1 label.sk-toggleable__label .caption {\n",
       "  font-size: 0.6rem;\n",
       "  font-weight: lighter;\n",
       "  color: var(--sklearn-color-text-muted);\n",
       "}\n",
       "\n",
       "#sk-container-id-1 label.sk-toggleable__label-arrow:before {\n",
       "  /* Arrow on the left of the label */\n",
       "  content: \"▸\";\n",
       "  float: left;\n",
       "  margin-right: 0.25em;\n",
       "  color: var(--sklearn-color-icon);\n",
       "}\n",
       "\n",
       "#sk-container-id-1 label.sk-toggleable__label-arrow:hover:before {\n",
       "  color: var(--sklearn-color-text);\n",
       "}\n",
       "\n",
       "/* Toggleable content - dropdown */\n",
       "\n",
       "#sk-container-id-1 div.sk-toggleable__content {\n",
       "  max-height: 0;\n",
       "  max-width: 0;\n",
       "  overflow: hidden;\n",
       "  text-align: left;\n",
       "  /* unfitted */\n",
       "  background-color: var(--sklearn-color-unfitted-level-0);\n",
       "}\n",
       "\n",
       "#sk-container-id-1 div.sk-toggleable__content.fitted {\n",
       "  /* fitted */\n",
       "  background-color: var(--sklearn-color-fitted-level-0);\n",
       "}\n",
       "\n",
       "#sk-container-id-1 div.sk-toggleable__content pre {\n",
       "  margin: 0.2em;\n",
       "  border-radius: 0.25em;\n",
       "  color: var(--sklearn-color-text);\n",
       "  /* unfitted */\n",
       "  background-color: var(--sklearn-color-unfitted-level-0);\n",
       "}\n",
       "\n",
       "#sk-container-id-1 div.sk-toggleable__content.fitted pre {\n",
       "  /* unfitted */\n",
       "  background-color: var(--sklearn-color-fitted-level-0);\n",
       "}\n",
       "\n",
       "#sk-container-id-1 input.sk-toggleable__control:checked~div.sk-toggleable__content {\n",
       "  /* Expand drop-down */\n",
       "  max-height: 200px;\n",
       "  max-width: 100%;\n",
       "  overflow: auto;\n",
       "}\n",
       "\n",
       "#sk-container-id-1 input.sk-toggleable__control:checked~label.sk-toggleable__label-arrow:before {\n",
       "  content: \"▾\";\n",
       "}\n",
       "\n",
       "/* Pipeline/ColumnTransformer-specific style */\n",
       "\n",
       "#sk-container-id-1 div.sk-label input.sk-toggleable__control:checked~label.sk-toggleable__label {\n",
       "  color: var(--sklearn-color-text);\n",
       "  background-color: var(--sklearn-color-unfitted-level-2);\n",
       "}\n",
       "\n",
       "#sk-container-id-1 div.sk-label.fitted input.sk-toggleable__control:checked~label.sk-toggleable__label {\n",
       "  background-color: var(--sklearn-color-fitted-level-2);\n",
       "}\n",
       "\n",
       "/* Estimator-specific style */\n",
       "\n",
       "/* Colorize estimator box */\n",
       "#sk-container-id-1 div.sk-estimator input.sk-toggleable__control:checked~label.sk-toggleable__label {\n",
       "  /* unfitted */\n",
       "  background-color: var(--sklearn-color-unfitted-level-2);\n",
       "}\n",
       "\n",
       "#sk-container-id-1 div.sk-estimator.fitted input.sk-toggleable__control:checked~label.sk-toggleable__label {\n",
       "  /* fitted */\n",
       "  background-color: var(--sklearn-color-fitted-level-2);\n",
       "}\n",
       "\n",
       "#sk-container-id-1 div.sk-label label.sk-toggleable__label,\n",
       "#sk-container-id-1 div.sk-label label {\n",
       "  /* The background is the default theme color */\n",
       "  color: var(--sklearn-color-text-on-default-background);\n",
       "}\n",
       "\n",
       "/* On hover, darken the color of the background */\n",
       "#sk-container-id-1 div.sk-label:hover label.sk-toggleable__label {\n",
       "  color: var(--sklearn-color-text);\n",
       "  background-color: var(--sklearn-color-unfitted-level-2);\n",
       "}\n",
       "\n",
       "/* Label box, darken color on hover, fitted */\n",
       "#sk-container-id-1 div.sk-label.fitted:hover label.sk-toggleable__label.fitted {\n",
       "  color: var(--sklearn-color-text);\n",
       "  background-color: var(--sklearn-color-fitted-level-2);\n",
       "}\n",
       "\n",
       "/* Estimator label */\n",
       "\n",
       "#sk-container-id-1 div.sk-label label {\n",
       "  font-family: monospace;\n",
       "  font-weight: bold;\n",
       "  display: inline-block;\n",
       "  line-height: 1.2em;\n",
       "}\n",
       "\n",
       "#sk-container-id-1 div.sk-label-container {\n",
       "  text-align: center;\n",
       "}\n",
       "\n",
       "/* Estimator-specific */\n",
       "#sk-container-id-1 div.sk-estimator {\n",
       "  font-family: monospace;\n",
       "  border: 1px dotted var(--sklearn-color-border-box);\n",
       "  border-radius: 0.25em;\n",
       "  box-sizing: border-box;\n",
       "  margin-bottom: 0.5em;\n",
       "  /* unfitted */\n",
       "  background-color: var(--sklearn-color-unfitted-level-0);\n",
       "}\n",
       "\n",
       "#sk-container-id-1 div.sk-estimator.fitted {\n",
       "  /* fitted */\n",
       "  background-color: var(--sklearn-color-fitted-level-0);\n",
       "}\n",
       "\n",
       "/* on hover */\n",
       "#sk-container-id-1 div.sk-estimator:hover {\n",
       "  /* unfitted */\n",
       "  background-color: var(--sklearn-color-unfitted-level-2);\n",
       "}\n",
       "\n",
       "#sk-container-id-1 div.sk-estimator.fitted:hover {\n",
       "  /* fitted */\n",
       "  background-color: var(--sklearn-color-fitted-level-2);\n",
       "}\n",
       "\n",
       "/* Specification for estimator info (e.g. \"i\" and \"?\") */\n",
       "\n",
       "/* Common style for \"i\" and \"?\" */\n",
       "\n",
       ".sk-estimator-doc-link,\n",
       "a:link.sk-estimator-doc-link,\n",
       "a:visited.sk-estimator-doc-link {\n",
       "  float: right;\n",
       "  font-size: smaller;\n",
       "  line-height: 1em;\n",
       "  font-family: monospace;\n",
       "  background-color: var(--sklearn-color-background);\n",
       "  border-radius: 1em;\n",
       "  height: 1em;\n",
       "  width: 1em;\n",
       "  text-decoration: none !important;\n",
       "  margin-left: 0.5em;\n",
       "  text-align: center;\n",
       "  /* unfitted */\n",
       "  border: var(--sklearn-color-unfitted-level-1) 1pt solid;\n",
       "  color: var(--sklearn-color-unfitted-level-1);\n",
       "}\n",
       "\n",
       ".sk-estimator-doc-link.fitted,\n",
       "a:link.sk-estimator-doc-link.fitted,\n",
       "a:visited.sk-estimator-doc-link.fitted {\n",
       "  /* fitted */\n",
       "  border: var(--sklearn-color-fitted-level-1) 1pt solid;\n",
       "  color: var(--sklearn-color-fitted-level-1);\n",
       "}\n",
       "\n",
       "/* On hover */\n",
       "div.sk-estimator:hover .sk-estimator-doc-link:hover,\n",
       ".sk-estimator-doc-link:hover,\n",
       "div.sk-label-container:hover .sk-estimator-doc-link:hover,\n",
       ".sk-estimator-doc-link:hover {\n",
       "  /* unfitted */\n",
       "  background-color: var(--sklearn-color-unfitted-level-3);\n",
       "  color: var(--sklearn-color-background);\n",
       "  text-decoration: none;\n",
       "}\n",
       "\n",
       "div.sk-estimator.fitted:hover .sk-estimator-doc-link.fitted:hover,\n",
       ".sk-estimator-doc-link.fitted:hover,\n",
       "div.sk-label-container:hover .sk-estimator-doc-link.fitted:hover,\n",
       ".sk-estimator-doc-link.fitted:hover {\n",
       "  /* fitted */\n",
       "  background-color: var(--sklearn-color-fitted-level-3);\n",
       "  color: var(--sklearn-color-background);\n",
       "  text-decoration: none;\n",
       "}\n",
       "\n",
       "/* Span, style for the box shown on hovering the info icon */\n",
       ".sk-estimator-doc-link span {\n",
       "  display: none;\n",
       "  z-index: 9999;\n",
       "  position: relative;\n",
       "  font-weight: normal;\n",
       "  right: .2ex;\n",
       "  padding: .5ex;\n",
       "  margin: .5ex;\n",
       "  width: min-content;\n",
       "  min-width: 20ex;\n",
       "  max-width: 50ex;\n",
       "  color: var(--sklearn-color-text);\n",
       "  box-shadow: 2pt 2pt 4pt #999;\n",
       "  /* unfitted */\n",
       "  background: var(--sklearn-color-unfitted-level-0);\n",
       "  border: .5pt solid var(--sklearn-color-unfitted-level-3);\n",
       "}\n",
       "\n",
       ".sk-estimator-doc-link.fitted span {\n",
       "  /* fitted */\n",
       "  background: var(--sklearn-color-fitted-level-0);\n",
       "  border: var(--sklearn-color-fitted-level-3);\n",
       "}\n",
       "\n",
       ".sk-estimator-doc-link:hover span {\n",
       "  display: block;\n",
       "}\n",
       "\n",
       "/* \"?\"-specific style due to the `<a>` HTML tag */\n",
       "\n",
       "#sk-container-id-1 a.estimator_doc_link {\n",
       "  float: right;\n",
       "  font-size: 1rem;\n",
       "  line-height: 1em;\n",
       "  font-family: monospace;\n",
       "  background-color: var(--sklearn-color-background);\n",
       "  border-radius: 1rem;\n",
       "  height: 1rem;\n",
       "  width: 1rem;\n",
       "  text-decoration: none;\n",
       "  /* unfitted */\n",
       "  color: var(--sklearn-color-unfitted-level-1);\n",
       "  border: var(--sklearn-color-unfitted-level-1) 1pt solid;\n",
       "}\n",
       "\n",
       "#sk-container-id-1 a.estimator_doc_link.fitted {\n",
       "  /* fitted */\n",
       "  border: var(--sklearn-color-fitted-level-1) 1pt solid;\n",
       "  color: var(--sklearn-color-fitted-level-1);\n",
       "}\n",
       "\n",
       "/* On hover */\n",
       "#sk-container-id-1 a.estimator_doc_link:hover {\n",
       "  /* unfitted */\n",
       "  background-color: var(--sklearn-color-unfitted-level-3);\n",
       "  color: var(--sklearn-color-background);\n",
       "  text-decoration: none;\n",
       "}\n",
       "\n",
       "#sk-container-id-1 a.estimator_doc_link.fitted:hover {\n",
       "  /* fitted */\n",
       "  background-color: var(--sklearn-color-fitted-level-3);\n",
       "}\n",
       "</style><div id=\"sk-container-id-1\" class=\"sk-top-container\"><div class=\"sk-text-repr-fallback\"><pre>LogisticRegression(max_iter=1000, random_state=412)</pre><b>In a Jupyter environment, please rerun this cell to show the HTML representation or trust the notebook. <br />On GitHub, the HTML representation is unable to render, please try loading this page with nbviewer.org.</b></div><div class=\"sk-container\" hidden><div class=\"sk-item\"><div class=\"sk-estimator fitted sk-toggleable\"><input class=\"sk-toggleable__control sk-hidden--visually\" id=\"sk-estimator-id-1\" type=\"checkbox\" checked><label for=\"sk-estimator-id-1\" class=\"sk-toggleable__label fitted sk-toggleable__label-arrow\"><div><div>LogisticRegression</div></div><div><a class=\"sk-estimator-doc-link fitted\" rel=\"noreferrer\" target=\"_blank\" href=\"https://scikit-learn.org/1.6/modules/generated/sklearn.linear_model.LogisticRegression.html\">?<span>Documentation for LogisticRegression</span></a><span class=\"sk-estimator-doc-link fitted\">i<span>Fitted</span></span></div></label><div class=\"sk-toggleable__content fitted\"><pre>LogisticRegression(max_iter=1000, random_state=412)</pre></div> </div></div></div></div>"
      ],
      "text/plain": [
       "LogisticRegression(max_iter=1000, random_state=412)"
      ]
     },
     "execution_count": 21,
     "metadata": {},
     "output_type": "execute_result"
    }
   ],
   "source": [
    "log_model = LogisticRegression(max_iter=1000, random_state=412)\n",
    "log_model.fit(X_train, y_train)"
   ]
  },
  {
   "cell_type": "code",
   "execution_count": 22,
   "metadata": {
    "executionInfo": {
     "elapsed": 36,
     "status": "ok",
     "timestamp": 1750423430393,
     "user": {
      "displayName": "Baran Kılınç",
      "userId": "15668208283949447064"
     },
     "user_tz": -180
    },
    "id": "bOdCCtRJD9HR"
   },
   "outputs": [],
   "source": [
    "y_pred = log_model.predict(X_test)"
   ]
  },
  {
   "cell_type": "code",
   "execution_count": 23,
   "metadata": {
    "colab": {
     "base_uri": "https://localhost:8080/"
    },
    "executionInfo": {
     "elapsed": 49,
     "status": "ok",
     "timestamp": 1750423431622,
     "user": {
      "displayName": "Baran Kılınç",
      "userId": "15668208283949447064"
     },
     "user_tz": -180
    },
    "id": "mrYMNrkED9Jj",
    "outputId": "015e40f3-a4de-416e-892c-2449e5c11453"
   },
   "outputs": [
    {
     "name": "stdout",
     "output_type": "stream",
     "text": [
      "Accuracy: 0.8687010349163362\n",
      "Confusion Matrix:\n",
      " [[10600  1111]\n",
      " [ 1604  7363]]\n",
      "Classification Report:\n",
      "               precision    recall  f1-score   support\n",
      "\n",
      "           0       0.87      0.91      0.89     11711\n",
      "           1       0.87      0.82      0.84      8967\n",
      "\n",
      "    accuracy                           0.87     20678\n",
      "   macro avg       0.87      0.86      0.87     20678\n",
      "weighted avg       0.87      0.87      0.87     20678\n",
      "\n"
     ]
    }
   ],
   "source": [
    "print(\"Accuracy:\", accuracy_score(y_test, y_pred))\n",
    "print(\"Confusion Matrix:\\n\", confusion_matrix(y_test, y_pred))\n",
    "print(\"Classification Report:\\n\", classification_report(y_test, y_pred))"
   ]
  },
  {
   "cell_type": "code",
   "execution_count": 24,
   "metadata": {
    "colab": {
     "base_uri": "https://localhost:8080/"
    },
    "executionInfo": {
     "elapsed": 449,
     "status": "ok",
     "timestamp": 1750423437664,
     "user": {
      "displayName": "Baran Kılınç",
      "userId": "15668208283949447064"
     },
     "user_tz": -180
    },
    "id": "dkQ1YykeD9Lp",
    "outputId": "55c5d17c-05b0-4b38-de4e-b14ecf065876"
   },
   "outputs": [
    {
     "name": "stdout",
     "output_type": "stream",
     "text": [
      "Optimization terminated successfully.\n",
      "         Current function value: 0.340713\n",
      "         Iterations 7\n"
     ]
    }
   ],
   "source": [
    "X_train_const = sm.add_constant(X_train)\n",
    "logit_model = sm.Logit(y_train, X_train_const)\n",
    "result = logit_model.fit()"
   ]
  },
  {
   "cell_type": "code",
   "execution_count": 25,
   "metadata": {
    "colab": {
     "base_uri": "https://localhost:8080/"
    },
    "executionInfo": {
     "elapsed": 280,
     "status": "ok",
     "timestamp": 1750423439199,
     "user": {
      "displayName": "Baran Kılınç",
      "userId": "15668208283949447064"
     },
     "user_tz": -180
    },
    "id": "_ICMymcjD9N-",
    "outputId": "63d616bf-f27c-4d68-8263-edee363ef818"
   },
   "outputs": [
    {
     "name": "stdout",
     "output_type": "stream",
     "text": [
      "                           Logit Regression Results                           \n",
      "==============================================================================\n",
      "Dep. Variable:           satisfaction   No. Observations:                82708\n",
      "Model:                          Logit   Df Residuals:                    82687\n",
      "Method:                           MLE   Df Model:                           20\n",
      "Date:                Fri, 20 Jun 2025   Pseudo R-squ.:                  0.5021\n",
      "Time:                        12:43:59   Log-Likelihood:                -28180.\n",
      "converged:                       True   LL-Null:                       -56598.\n",
      "Covariance Type:            nonrobust   LLR p-value:                     0.000\n",
      "=====================================================================================================\n",
      "                                        coef    std err          z      P>|z|      [0.025      0.975]\n",
      "-----------------------------------------------------------------------------------------------------\n",
      "const                                -6.5713      0.075    -87.059      0.000      -6.719      -6.423\n",
      "Age                                  -0.7243      0.062    -11.762      0.000      -0.845      -0.604\n",
      "Class                                 0.6198      0.028     22.382      0.000       0.566       0.674\n",
      "Flight.Distance                      -0.0707      0.061     -1.154      0.249      -0.191       0.049\n",
      "Departure.Arrival.time.convenient    -0.5520      0.046    -12.088      0.000      -0.642      -0.463\n",
      "Ease.of.Online.booking                0.2364      0.053      4.428      0.000       0.132       0.341\n",
      "Gate.location                         0.1636      0.051      3.197      0.001       0.063       0.264\n",
      "Food.and.drink                       -0.0666      0.059     -1.132      0.258      -0.182       0.049\n",
      "Online.boarding                       3.6159      0.055     66.001      0.000       3.509       3.723\n",
      "Seat.comfort                          0.2542      0.062      4.131      0.000       0.134       0.375\n",
      "Inflight.entertainment                0.7656      0.077      9.893      0.000       0.614       0.917\n",
      "On.board.service                      1.5492      0.056     27.749      0.000       1.440       1.659\n",
      "Leg.room.service                      1.3637      0.047     29.125      0.000       1.272       1.455\n",
      "Baggage.handling                      0.5971      0.050     11.936      0.000       0.499       0.695\n",
      "Checkin.service                       1.5457      0.047     32.868      0.000       1.454       1.638\n",
      "Inflight.service                      0.6337      0.066      9.603      0.000       0.504       0.763\n",
      "Cleanliness                           0.9270      0.067     13.888      0.000       0.796       1.058\n",
      "Arrival.Delay.in.Minutes             -2.9087      0.167    -17.431      0.000      -3.236      -2.582\n",
      "Gender_Male                           0.0823      0.022      3.825      0.000       0.040       0.125\n",
      "Customer.Type_disloyal.Customer      -1.9028      0.032    -58.548      0.000      -1.966      -1.839\n",
      "Type.of.Travel_Personal.Travel       -2.8031      0.035    -81.192      0.000      -2.871      -2.735\n",
      "=====================================================================================================\n"
     ]
    }
   ],
   "source": [
    "print(result.summary())"
   ]
  },
  {
   "cell_type": "code",
   "execution_count": 26,
   "metadata": {
    "executionInfo": {
     "elapsed": 21,
     "status": "ok",
     "timestamp": 1750423441971,
     "user": {
      "displayName": "Baran Kılınç",
      "userId": "15668208283949447064"
     },
     "user_tz": -180
    },
    "id": "93k2yTE2D9Qb"
   },
   "outputs": [],
   "source": [
    "cols_to_drop = [\"Flight.Distance\", \"Food.and.drink\"]\n",
    "\n",
    "X_train_reduced = X_train.drop(columns=cols_to_drop)\n",
    "X_test_reduced = X_test.drop(columns=cols_to_drop)"
   ]
  },
  {
   "cell_type": "code",
   "execution_count": 27,
   "metadata": {
    "colab": {
     "base_uri": "https://localhost:8080/"
    },
    "executionInfo": {
     "elapsed": 656,
     "status": "ok",
     "timestamp": 1750423446518,
     "user": {
      "displayName": "Baran Kılınç",
      "userId": "15668208283949447064"
     },
     "user_tz": -180
    },
    "id": "yxEN1GgkD9TR",
    "outputId": "9a527eba-e464-4c16-c4e0-a7dc196ac4b1"
   },
   "outputs": [
    {
     "name": "stdout",
     "output_type": "stream",
     "text": [
      "Optimization terminated successfully.\n",
      "         Current function value: 0.340729\n",
      "         Iterations 7\n",
      "                           Logit Regression Results                           \n",
      "==============================================================================\n",
      "Dep. Variable:           satisfaction   No. Observations:                82708\n",
      "Model:                          Logit   Df Residuals:                    82689\n",
      "Method:                           MLE   Df Model:                           18\n",
      "Date:                Fri, 20 Jun 2025   Pseudo R-squ.:                  0.5021\n",
      "Time:                        12:44:06   Log-Likelihood:                -28181.\n",
      "converged:                       True   LL-Null:                       -56598.\n",
      "Covariance Type:            nonrobust   LLR p-value:                     0.000\n",
      "=====================================================================================================\n",
      "                                        coef    std err          z      P>|z|      [0.025      0.975]\n",
      "-----------------------------------------------------------------------------------------------------\n",
      "const                                -6.6011      0.073    -90.205      0.000      -6.744      -6.458\n",
      "Age                                  -0.7160      0.061    -11.670      0.000      -0.836      -0.596\n",
      "Class                                 0.6086      0.026     23.357      0.000       0.558       0.660\n",
      "Departure.Arrival.time.convenient    -0.5531      0.046    -12.113      0.000      -0.643      -0.464\n",
      "Ease.of.Online.booking                0.2357      0.053      4.416      0.000       0.131       0.340\n",
      "Gate.location                         0.1648      0.051      3.221      0.001       0.065       0.265\n",
      "Online.boarding                       3.6147      0.055     65.991      0.000       3.507       3.722\n",
      "Seat.comfort                          0.2422      0.061      3.979      0.000       0.123       0.361\n",
      "Inflight.entertainment                0.7339      0.072     10.199      0.000       0.593       0.875\n",
      "On.board.service                      1.5546      0.056     27.999      0.000       1.446       1.663\n",
      "Leg.room.service                      1.3655      0.047     29.246      0.000       1.274       1.457\n",
      "Baggage.handling                      0.6017      0.050     12.053      0.000       0.504       0.700\n",
      "Checkin.service                       1.5433      0.047     32.842      0.000       1.451       1.635\n",
      "Inflight.service                      0.6418      0.066      9.766      0.000       0.513       0.771\n",
      "Cleanliness                           0.9116      0.065     13.985      0.000       0.784       1.039\n",
      "Arrival.Delay.in.Minutes             -2.9034      0.167    -17.391      0.000      -3.231      -2.576\n",
      "Gender_Male                           0.0815      0.022      3.788      0.000       0.039       0.124\n",
      "Customer.Type_disloyal.Customer      -1.8958      0.031    -60.332      0.000      -1.957      -1.834\n",
      "Type.of.Travel_Personal.Travel       -2.8001      0.034    -81.612      0.000      -2.867      -2.733\n",
      "=====================================================================================================\n"
     ]
    }
   ],
   "source": [
    "import statsmodels.api as sm\n",
    "\n",
    "X_train_const = sm.add_constant(X_train_reduced)\n",
    "logit_model_reduced = sm.Logit(y_train, X_train_const)\n",
    "result_reduced = logit_model_reduced.fit()\n",
    "print(result_reduced.summary())"
   ]
  },
  {
   "cell_type": "code",
   "execution_count": 28,
   "metadata": {
    "colab": {
     "base_uri": "https://localhost:8080/"
    },
    "executionInfo": {
     "elapsed": 32,
     "status": "ok",
     "timestamp": 1750423447873,
     "user": {
      "displayName": "Baran Kılınç",
      "userId": "15668208283949447064"
     },
     "user_tz": -180
    },
    "id": "6Oak2oMvvj_J",
    "outputId": "52a307a7-654e-40f4-f480-15d038d6b6a4"
   },
   "outputs": [
    {
     "name": "stdout",
     "output_type": "stream",
     "text": [
      "                             Variable    coef  std err        z   P>|z|\n",
      "0                               const -6.5713   0.0755 -87.0590  0.0000\n",
      "1                                 Age -0.7243   0.0616 -11.7624  0.0000\n",
      "2                               Class  0.6198   0.0277  22.3818  0.0000\n",
      "3                     Flight.Distance -0.0707   0.0613  -1.1538  0.2486\n",
      "4   Departure.Arrival.time.convenient -0.5520   0.0457 -12.0881  0.0000\n",
      "5              Ease.of.Online.booking  0.2364   0.0534   4.4283  0.0000\n",
      "6                       Gate.location  0.1636   0.0512   3.1967  0.0014\n",
      "7                      Food.and.drink -0.0666   0.0588  -1.1317  0.2578\n",
      "8                     Online.boarding  3.6159   0.0548  66.0011  0.0000\n",
      "9                        Seat.comfort  0.2542   0.0615   4.1313  0.0000\n",
      "10             Inflight.entertainment  0.7656   0.0774   9.8929  0.0000\n",
      "11                   On.board.service  1.5492   0.0558  27.7488  0.0000\n",
      "12                   Leg.room.service  1.3637   0.0468  29.1253  0.0000\n",
      "13                   Baggage.handling  0.5971   0.0500  11.9356  0.0000\n",
      "14                    Checkin.service  1.5457   0.0470  32.8683  0.0000\n",
      "15                   Inflight.service  0.6337   0.0660   9.6035  0.0000\n",
      "16                        Cleanliness  0.9270   0.0668  13.8878  0.0000\n",
      "17           Arrival.Delay.in.Minutes -2.9087   0.1669 -17.4313  0.0000\n",
      "18                        Gender_Male  0.0823   0.0215   3.8247  0.0001\n",
      "19    Customer.Type_disloyal.Customer -1.9028   0.0325 -58.5485  0.0000\n",
      "20     Type.of.Travel_Personal.Travel -2.8031   0.0345 -81.1922  0.0000\n"
     ]
    }
   ],
   "source": [
    "summary_df = pd.DataFrame({\n",
    "    \"coef\": result.params,\n",
    "    \"std err\": result.bse,\n",
    "    \"z\": result.tvalues,\n",
    "    \"P>|z|\": result.pvalues\n",
    "})\n",
    "\n",
    "summary_df = summary_df.reset_index().rename(columns={\"index\": \"Variable\"})\n",
    "summary_df = summary_df.round(4)\n",
    "print(summary_df)"
   ]
  },
  {
   "cell_type": "code",
   "execution_count": 29,
   "metadata": {
    "executionInfo": {
     "elapsed": 11,
     "status": "ok",
     "timestamp": 1750423448666,
     "user": {
      "displayName": "Baran Kılınç",
      "userId": "15668208283949447064"
     },
     "user_tz": -180
    },
    "id": "Uk6rMAKCD8Vf"
   },
   "outputs": [],
   "source": [
    "X_test_const = sm.add_constant(X_test_reduced)\n",
    "y_pred_prob = result_reduced.predict(X_test_const)\n",
    "y_pred = (y_pred_prob >= 0.5).astype(int)"
   ]
  },
  {
   "cell_type": "code",
   "execution_count": 30,
   "metadata": {
    "colab": {
     "base_uri": "https://localhost:8080/"
    },
    "executionInfo": {
     "elapsed": 59,
     "status": "ok",
     "timestamp": 1750423449735,
     "user": {
      "displayName": "Baran Kılınç",
      "userId": "15668208283949447064"
     },
     "user_tz": -180
    },
    "id": "2gEBcaJGCplp",
    "outputId": "c64f228b-b4ee-4913-e2f2-4a7249a4e458"
   },
   "outputs": [
    {
     "name": "stdout",
     "output_type": "stream",
     "text": [
      "Accuracy: 0.8688944772221685\n",
      "Confusion Matrix:\n",
      " [[10608  1103]\n",
      " [ 1608  7359]]\n",
      "Classification Report:\n",
      "               precision    recall  f1-score   support\n",
      "\n",
      "           0       0.87      0.91      0.89     11711\n",
      "           1       0.87      0.82      0.84      8967\n",
      "\n",
      "    accuracy                           0.87     20678\n",
      "   macro avg       0.87      0.86      0.87     20678\n",
      "weighted avg       0.87      0.87      0.87     20678\n",
      "\n"
     ]
    }
   ],
   "source": [
    "print(\"Accuracy:\", accuracy_score(y_test, y_pred))\n",
    "print(\"Confusion Matrix:\\n\", confusion_matrix(y_test, y_pred))\n",
    "print(\"Classification Report:\\n\", classification_report(y_test, y_pred))"
   ]
  },
  {
   "cell_type": "code",
   "execution_count": 31,
   "metadata": {
    "colab": {
     "base_uri": "https://localhost:8080/",
     "height": 80
    },
    "executionInfo": {
     "elapsed": 1154,
     "status": "ok",
     "timestamp": 1750423452589,
     "user": {
      "displayName": "Baran Kılınç",
      "userId": "15668208283949447064"
     },
     "user_tz": -180
    },
    "id": "gWrt1kS0IbGo",
    "outputId": "0ee1b99d-2ae8-449a-9649-d85ddaad0935"
   },
   "outputs": [
    {
     "data": {
      "text/html": [
       "<style>#sk-container-id-2 {\n",
       "  /* Definition of color scheme common for light and dark mode */\n",
       "  --sklearn-color-text: #000;\n",
       "  --sklearn-color-text-muted: #666;\n",
       "  --sklearn-color-line: gray;\n",
       "  /* Definition of color scheme for unfitted estimators */\n",
       "  --sklearn-color-unfitted-level-0: #fff5e6;\n",
       "  --sklearn-color-unfitted-level-1: #f6e4d2;\n",
       "  --sklearn-color-unfitted-level-2: #ffe0b3;\n",
       "  --sklearn-color-unfitted-level-3: chocolate;\n",
       "  /* Definition of color scheme for fitted estimators */\n",
       "  --sklearn-color-fitted-level-0: #f0f8ff;\n",
       "  --sklearn-color-fitted-level-1: #d4ebff;\n",
       "  --sklearn-color-fitted-level-2: #b3dbfd;\n",
       "  --sklearn-color-fitted-level-3: cornflowerblue;\n",
       "\n",
       "  /* Specific color for light theme */\n",
       "  --sklearn-color-text-on-default-background: var(--sg-text-color, var(--theme-code-foreground, var(--jp-content-font-color1, black)));\n",
       "  --sklearn-color-background: var(--sg-background-color, var(--theme-background, var(--jp-layout-color0, white)));\n",
       "  --sklearn-color-border-box: var(--sg-text-color, var(--theme-code-foreground, var(--jp-content-font-color1, black)));\n",
       "  --sklearn-color-icon: #696969;\n",
       "\n",
       "  @media (prefers-color-scheme: dark) {\n",
       "    /* Redefinition of color scheme for dark theme */\n",
       "    --sklearn-color-text-on-default-background: var(--sg-text-color, var(--theme-code-foreground, var(--jp-content-font-color1, white)));\n",
       "    --sklearn-color-background: var(--sg-background-color, var(--theme-background, var(--jp-layout-color0, #111)));\n",
       "    --sklearn-color-border-box: var(--sg-text-color, var(--theme-code-foreground, var(--jp-content-font-color1, white)));\n",
       "    --sklearn-color-icon: #878787;\n",
       "  }\n",
       "}\n",
       "\n",
       "#sk-container-id-2 {\n",
       "  color: var(--sklearn-color-text);\n",
       "}\n",
       "\n",
       "#sk-container-id-2 pre {\n",
       "  padding: 0;\n",
       "}\n",
       "\n",
       "#sk-container-id-2 input.sk-hidden--visually {\n",
       "  border: 0;\n",
       "  clip: rect(1px 1px 1px 1px);\n",
       "  clip: rect(1px, 1px, 1px, 1px);\n",
       "  height: 1px;\n",
       "  margin: -1px;\n",
       "  overflow: hidden;\n",
       "  padding: 0;\n",
       "  position: absolute;\n",
       "  width: 1px;\n",
       "}\n",
       "\n",
       "#sk-container-id-2 div.sk-dashed-wrapped {\n",
       "  border: 1px dashed var(--sklearn-color-line);\n",
       "  margin: 0 0.4em 0.5em 0.4em;\n",
       "  box-sizing: border-box;\n",
       "  padding-bottom: 0.4em;\n",
       "  background-color: var(--sklearn-color-background);\n",
       "}\n",
       "\n",
       "#sk-container-id-2 div.sk-container {\n",
       "  /* jupyter's `normalize.less` sets `[hidden] { display: none; }`\n",
       "     but bootstrap.min.css set `[hidden] { display: none !important; }`\n",
       "     so we also need the `!important` here to be able to override the\n",
       "     default hidden behavior on the sphinx rendered scikit-learn.org.\n",
       "     See: https://github.com/scikit-learn/scikit-learn/issues/21755 */\n",
       "  display: inline-block !important;\n",
       "  position: relative;\n",
       "}\n",
       "\n",
       "#sk-container-id-2 div.sk-text-repr-fallback {\n",
       "  display: none;\n",
       "}\n",
       "\n",
       "div.sk-parallel-item,\n",
       "div.sk-serial,\n",
       "div.sk-item {\n",
       "  /* draw centered vertical line to link estimators */\n",
       "  background-image: linear-gradient(var(--sklearn-color-text-on-default-background), var(--sklearn-color-text-on-default-background));\n",
       "  background-size: 2px 100%;\n",
       "  background-repeat: no-repeat;\n",
       "  background-position: center center;\n",
       "}\n",
       "\n",
       "/* Parallel-specific style estimator block */\n",
       "\n",
       "#sk-container-id-2 div.sk-parallel-item::after {\n",
       "  content: \"\";\n",
       "  width: 100%;\n",
       "  border-bottom: 2px solid var(--sklearn-color-text-on-default-background);\n",
       "  flex-grow: 1;\n",
       "}\n",
       "\n",
       "#sk-container-id-2 div.sk-parallel {\n",
       "  display: flex;\n",
       "  align-items: stretch;\n",
       "  justify-content: center;\n",
       "  background-color: var(--sklearn-color-background);\n",
       "  position: relative;\n",
       "}\n",
       "\n",
       "#sk-container-id-2 div.sk-parallel-item {\n",
       "  display: flex;\n",
       "  flex-direction: column;\n",
       "}\n",
       "\n",
       "#sk-container-id-2 div.sk-parallel-item:first-child::after {\n",
       "  align-self: flex-end;\n",
       "  width: 50%;\n",
       "}\n",
       "\n",
       "#sk-container-id-2 div.sk-parallel-item:last-child::after {\n",
       "  align-self: flex-start;\n",
       "  width: 50%;\n",
       "}\n",
       "\n",
       "#sk-container-id-2 div.sk-parallel-item:only-child::after {\n",
       "  width: 0;\n",
       "}\n",
       "\n",
       "/* Serial-specific style estimator block */\n",
       "\n",
       "#sk-container-id-2 div.sk-serial {\n",
       "  display: flex;\n",
       "  flex-direction: column;\n",
       "  align-items: center;\n",
       "  background-color: var(--sklearn-color-background);\n",
       "  padding-right: 1em;\n",
       "  padding-left: 1em;\n",
       "}\n",
       "\n",
       "\n",
       "/* Toggleable style: style used for estimator/Pipeline/ColumnTransformer box that is\n",
       "clickable and can be expanded/collapsed.\n",
       "- Pipeline and ColumnTransformer use this feature and define the default style\n",
       "- Estimators will overwrite some part of the style using the `sk-estimator` class\n",
       "*/\n",
       "\n",
       "/* Pipeline and ColumnTransformer style (default) */\n",
       "\n",
       "#sk-container-id-2 div.sk-toggleable {\n",
       "  /* Default theme specific background. It is overwritten whether we have a\n",
       "  specific estimator or a Pipeline/ColumnTransformer */\n",
       "  background-color: var(--sklearn-color-background);\n",
       "}\n",
       "\n",
       "/* Toggleable label */\n",
       "#sk-container-id-2 label.sk-toggleable__label {\n",
       "  cursor: pointer;\n",
       "  display: flex;\n",
       "  width: 100%;\n",
       "  margin-bottom: 0;\n",
       "  padding: 0.5em;\n",
       "  box-sizing: border-box;\n",
       "  text-align: center;\n",
       "  align-items: start;\n",
       "  justify-content: space-between;\n",
       "  gap: 0.5em;\n",
       "}\n",
       "\n",
       "#sk-container-id-2 label.sk-toggleable__label .caption {\n",
       "  font-size: 0.6rem;\n",
       "  font-weight: lighter;\n",
       "  color: var(--sklearn-color-text-muted);\n",
       "}\n",
       "\n",
       "#sk-container-id-2 label.sk-toggleable__label-arrow:before {\n",
       "  /* Arrow on the left of the label */\n",
       "  content: \"▸\";\n",
       "  float: left;\n",
       "  margin-right: 0.25em;\n",
       "  color: var(--sklearn-color-icon);\n",
       "}\n",
       "\n",
       "#sk-container-id-2 label.sk-toggleable__label-arrow:hover:before {\n",
       "  color: var(--sklearn-color-text);\n",
       "}\n",
       "\n",
       "/* Toggleable content - dropdown */\n",
       "\n",
       "#sk-container-id-2 div.sk-toggleable__content {\n",
       "  max-height: 0;\n",
       "  max-width: 0;\n",
       "  overflow: hidden;\n",
       "  text-align: left;\n",
       "  /* unfitted */\n",
       "  background-color: var(--sklearn-color-unfitted-level-0);\n",
       "}\n",
       "\n",
       "#sk-container-id-2 div.sk-toggleable__content.fitted {\n",
       "  /* fitted */\n",
       "  background-color: var(--sklearn-color-fitted-level-0);\n",
       "}\n",
       "\n",
       "#sk-container-id-2 div.sk-toggleable__content pre {\n",
       "  margin: 0.2em;\n",
       "  border-radius: 0.25em;\n",
       "  color: var(--sklearn-color-text);\n",
       "  /* unfitted */\n",
       "  background-color: var(--sklearn-color-unfitted-level-0);\n",
       "}\n",
       "\n",
       "#sk-container-id-2 div.sk-toggleable__content.fitted pre {\n",
       "  /* unfitted */\n",
       "  background-color: var(--sklearn-color-fitted-level-0);\n",
       "}\n",
       "\n",
       "#sk-container-id-2 input.sk-toggleable__control:checked~div.sk-toggleable__content {\n",
       "  /* Expand drop-down */\n",
       "  max-height: 200px;\n",
       "  max-width: 100%;\n",
       "  overflow: auto;\n",
       "}\n",
       "\n",
       "#sk-container-id-2 input.sk-toggleable__control:checked~label.sk-toggleable__label-arrow:before {\n",
       "  content: \"▾\";\n",
       "}\n",
       "\n",
       "/* Pipeline/ColumnTransformer-specific style */\n",
       "\n",
       "#sk-container-id-2 div.sk-label input.sk-toggleable__control:checked~label.sk-toggleable__label {\n",
       "  color: var(--sklearn-color-text);\n",
       "  background-color: var(--sklearn-color-unfitted-level-2);\n",
       "}\n",
       "\n",
       "#sk-container-id-2 div.sk-label.fitted input.sk-toggleable__control:checked~label.sk-toggleable__label {\n",
       "  background-color: var(--sklearn-color-fitted-level-2);\n",
       "}\n",
       "\n",
       "/* Estimator-specific style */\n",
       "\n",
       "/* Colorize estimator box */\n",
       "#sk-container-id-2 div.sk-estimator input.sk-toggleable__control:checked~label.sk-toggleable__label {\n",
       "  /* unfitted */\n",
       "  background-color: var(--sklearn-color-unfitted-level-2);\n",
       "}\n",
       "\n",
       "#sk-container-id-2 div.sk-estimator.fitted input.sk-toggleable__control:checked~label.sk-toggleable__label {\n",
       "  /* fitted */\n",
       "  background-color: var(--sklearn-color-fitted-level-2);\n",
       "}\n",
       "\n",
       "#sk-container-id-2 div.sk-label label.sk-toggleable__label,\n",
       "#sk-container-id-2 div.sk-label label {\n",
       "  /* The background is the default theme color */\n",
       "  color: var(--sklearn-color-text-on-default-background);\n",
       "}\n",
       "\n",
       "/* On hover, darken the color of the background */\n",
       "#sk-container-id-2 div.sk-label:hover label.sk-toggleable__label {\n",
       "  color: var(--sklearn-color-text);\n",
       "  background-color: var(--sklearn-color-unfitted-level-2);\n",
       "}\n",
       "\n",
       "/* Label box, darken color on hover, fitted */\n",
       "#sk-container-id-2 div.sk-label.fitted:hover label.sk-toggleable__label.fitted {\n",
       "  color: var(--sklearn-color-text);\n",
       "  background-color: var(--sklearn-color-fitted-level-2);\n",
       "}\n",
       "\n",
       "/* Estimator label */\n",
       "\n",
       "#sk-container-id-2 div.sk-label label {\n",
       "  font-family: monospace;\n",
       "  font-weight: bold;\n",
       "  display: inline-block;\n",
       "  line-height: 1.2em;\n",
       "}\n",
       "\n",
       "#sk-container-id-2 div.sk-label-container {\n",
       "  text-align: center;\n",
       "}\n",
       "\n",
       "/* Estimator-specific */\n",
       "#sk-container-id-2 div.sk-estimator {\n",
       "  font-family: monospace;\n",
       "  border: 1px dotted var(--sklearn-color-border-box);\n",
       "  border-radius: 0.25em;\n",
       "  box-sizing: border-box;\n",
       "  margin-bottom: 0.5em;\n",
       "  /* unfitted */\n",
       "  background-color: var(--sklearn-color-unfitted-level-0);\n",
       "}\n",
       "\n",
       "#sk-container-id-2 div.sk-estimator.fitted {\n",
       "  /* fitted */\n",
       "  background-color: var(--sklearn-color-fitted-level-0);\n",
       "}\n",
       "\n",
       "/* on hover */\n",
       "#sk-container-id-2 div.sk-estimator:hover {\n",
       "  /* unfitted */\n",
       "  background-color: var(--sklearn-color-unfitted-level-2);\n",
       "}\n",
       "\n",
       "#sk-container-id-2 div.sk-estimator.fitted:hover {\n",
       "  /* fitted */\n",
       "  background-color: var(--sklearn-color-fitted-level-2);\n",
       "}\n",
       "\n",
       "/* Specification for estimator info (e.g. \"i\" and \"?\") */\n",
       "\n",
       "/* Common style for \"i\" and \"?\" */\n",
       "\n",
       ".sk-estimator-doc-link,\n",
       "a:link.sk-estimator-doc-link,\n",
       "a:visited.sk-estimator-doc-link {\n",
       "  float: right;\n",
       "  font-size: smaller;\n",
       "  line-height: 1em;\n",
       "  font-family: monospace;\n",
       "  background-color: var(--sklearn-color-background);\n",
       "  border-radius: 1em;\n",
       "  height: 1em;\n",
       "  width: 1em;\n",
       "  text-decoration: none !important;\n",
       "  margin-left: 0.5em;\n",
       "  text-align: center;\n",
       "  /* unfitted */\n",
       "  border: var(--sklearn-color-unfitted-level-1) 1pt solid;\n",
       "  color: var(--sklearn-color-unfitted-level-1);\n",
       "}\n",
       "\n",
       ".sk-estimator-doc-link.fitted,\n",
       "a:link.sk-estimator-doc-link.fitted,\n",
       "a:visited.sk-estimator-doc-link.fitted {\n",
       "  /* fitted */\n",
       "  border: var(--sklearn-color-fitted-level-1) 1pt solid;\n",
       "  color: var(--sklearn-color-fitted-level-1);\n",
       "}\n",
       "\n",
       "/* On hover */\n",
       "div.sk-estimator:hover .sk-estimator-doc-link:hover,\n",
       ".sk-estimator-doc-link:hover,\n",
       "div.sk-label-container:hover .sk-estimator-doc-link:hover,\n",
       ".sk-estimator-doc-link:hover {\n",
       "  /* unfitted */\n",
       "  background-color: var(--sklearn-color-unfitted-level-3);\n",
       "  color: var(--sklearn-color-background);\n",
       "  text-decoration: none;\n",
       "}\n",
       "\n",
       "div.sk-estimator.fitted:hover .sk-estimator-doc-link.fitted:hover,\n",
       ".sk-estimator-doc-link.fitted:hover,\n",
       "div.sk-label-container:hover .sk-estimator-doc-link.fitted:hover,\n",
       ".sk-estimator-doc-link.fitted:hover {\n",
       "  /* fitted */\n",
       "  background-color: var(--sklearn-color-fitted-level-3);\n",
       "  color: var(--sklearn-color-background);\n",
       "  text-decoration: none;\n",
       "}\n",
       "\n",
       "/* Span, style for the box shown on hovering the info icon */\n",
       ".sk-estimator-doc-link span {\n",
       "  display: none;\n",
       "  z-index: 9999;\n",
       "  position: relative;\n",
       "  font-weight: normal;\n",
       "  right: .2ex;\n",
       "  padding: .5ex;\n",
       "  margin: .5ex;\n",
       "  width: min-content;\n",
       "  min-width: 20ex;\n",
       "  max-width: 50ex;\n",
       "  color: var(--sklearn-color-text);\n",
       "  box-shadow: 2pt 2pt 4pt #999;\n",
       "  /* unfitted */\n",
       "  background: var(--sklearn-color-unfitted-level-0);\n",
       "  border: .5pt solid var(--sklearn-color-unfitted-level-3);\n",
       "}\n",
       "\n",
       ".sk-estimator-doc-link.fitted span {\n",
       "  /* fitted */\n",
       "  background: var(--sklearn-color-fitted-level-0);\n",
       "  border: var(--sklearn-color-fitted-level-3);\n",
       "}\n",
       "\n",
       ".sk-estimator-doc-link:hover span {\n",
       "  display: block;\n",
       "}\n",
       "\n",
       "/* \"?\"-specific style due to the `<a>` HTML tag */\n",
       "\n",
       "#sk-container-id-2 a.estimator_doc_link {\n",
       "  float: right;\n",
       "  font-size: 1rem;\n",
       "  line-height: 1em;\n",
       "  font-family: monospace;\n",
       "  background-color: var(--sklearn-color-background);\n",
       "  border-radius: 1rem;\n",
       "  height: 1rem;\n",
       "  width: 1rem;\n",
       "  text-decoration: none;\n",
       "  /* unfitted */\n",
       "  color: var(--sklearn-color-unfitted-level-1);\n",
       "  border: var(--sklearn-color-unfitted-level-1) 1pt solid;\n",
       "}\n",
       "\n",
       "#sk-container-id-2 a.estimator_doc_link.fitted {\n",
       "  /* fitted */\n",
       "  border: var(--sklearn-color-fitted-level-1) 1pt solid;\n",
       "  color: var(--sklearn-color-fitted-level-1);\n",
       "}\n",
       "\n",
       "/* On hover */\n",
       "#sk-container-id-2 a.estimator_doc_link:hover {\n",
       "  /* unfitted */\n",
       "  background-color: var(--sklearn-color-unfitted-level-3);\n",
       "  color: var(--sklearn-color-background);\n",
       "  text-decoration: none;\n",
       "}\n",
       "\n",
       "#sk-container-id-2 a.estimator_doc_link.fitted:hover {\n",
       "  /* fitted */\n",
       "  background-color: var(--sklearn-color-fitted-level-3);\n",
       "}\n",
       "</style><div id=\"sk-container-id-2\" class=\"sk-top-container\"><div class=\"sk-text-repr-fallback\"><pre>LogisticRegression(max_iter=1000, random_state=412)</pre><b>In a Jupyter environment, please rerun this cell to show the HTML representation or trust the notebook. <br />On GitHub, the HTML representation is unable to render, please try loading this page with nbviewer.org.</b></div><div class=\"sk-container\" hidden><div class=\"sk-item\"><div class=\"sk-estimator fitted sk-toggleable\"><input class=\"sk-toggleable__control sk-hidden--visually\" id=\"sk-estimator-id-2\" type=\"checkbox\" checked><label for=\"sk-estimator-id-2\" class=\"sk-toggleable__label fitted sk-toggleable__label-arrow\"><div><div>LogisticRegression</div></div><div><a class=\"sk-estimator-doc-link fitted\" rel=\"noreferrer\" target=\"_blank\" href=\"https://scikit-learn.org/1.6/modules/generated/sklearn.linear_model.LogisticRegression.html\">?<span>Documentation for LogisticRegression</span></a><span class=\"sk-estimator-doc-link fitted\">i<span>Fitted</span></span></div></label><div class=\"sk-toggleable__content fitted\"><pre>LogisticRegression(max_iter=1000, random_state=412)</pre></div> </div></div></div></div>"
      ],
      "text/plain": [
       "LogisticRegression(max_iter=1000, random_state=412)"
      ]
     },
     "execution_count": 31,
     "metadata": {},
     "output_type": "execute_result"
    }
   ],
   "source": [
    "cols_to_drop = [\"Flight.Distance\", \"Food.and.drink\"]\n",
    "X_train_reduced = X_train.drop(columns=cols_to_drop)\n",
    "X_test_reduced = X_test.drop(columns=cols_to_drop)\n",
    "\n",
    "log_model_reduced = LogisticRegression(max_iter=1000, random_state=412)\n",
    "log_model_reduced.fit(X_train_reduced, y_train)"
   ]
  },
  {
   "cell_type": "code",
   "execution_count": 32,
   "metadata": {
    "colab": {
     "base_uri": "https://localhost:8080/"
    },
    "executionInfo": {
     "elapsed": 120,
     "status": "ok",
     "timestamp": 1750423454926,
     "user": {
      "displayName": "Baran Kılınç",
      "userId": "15668208283949447064"
     },
     "user_tz": -180
    },
    "id": "0QY-BqgQImM8",
    "outputId": "68c13b4b-a5c2-4087-cbdc-da0966f0aa07"
   },
   "outputs": [
    {
     "name": "stdout",
     "output_type": "stream",
     "text": [
      "Train Accuracy: 0.8681506021182956\n",
      "Train Classification Report:\n",
      "              precision    recall  f1-score   support\n",
      "\n",
      "           0       0.87      0.90      0.89     46844\n",
      "           1       0.87      0.82      0.84     35864\n",
      "\n",
      "    accuracy                           0.87     82708\n",
      "   macro avg       0.87      0.86      0.86     82708\n",
      "weighted avg       0.87      0.87      0.87     82708\n",
      "\n"
     ]
    }
   ],
   "source": [
    "y_train_pred = log_model_reduced.predict(X_train_reduced)\n",
    "\n",
    "print(\"Train Accuracy:\", accuracy_score(y_train, y_train_pred))\n",
    "print(\"Train Classification Report:\")\n",
    "print(classification_report(y_train, y_train_pred))"
   ]
  },
  {
   "cell_type": "code",
   "execution_count": 33,
   "metadata": {
    "colab": {
     "base_uri": "https://localhost:8080/"
    },
    "executionInfo": {
     "elapsed": 24,
     "status": "ok",
     "timestamp": 1750423456124,
     "user": {
      "displayName": "Baran Kılınç",
      "userId": "15668208283949447064"
     },
     "user_tz": -180
    },
    "id": "nNAZH4-IvU9Z",
    "outputId": "fb401045-0c00-4038-8217-8dea2a452774"
   },
   "outputs": [
    {
     "name": "stdout",
     "output_type": "stream",
     "text": [
      "Accuracy: 0.8686526743398781\n",
      "              precision    recall  f1-score   support\n",
      "\n",
      "           0       0.87      0.91      0.89     11711\n",
      "           1       0.87      0.82      0.84      8967\n",
      "\n",
      "    accuracy                           0.87     20678\n",
      "   macro avg       0.87      0.86      0.87     20678\n",
      "weighted avg       0.87      0.87      0.87     20678\n",
      "\n"
     ]
    }
   ],
   "source": [
    "y_pred = log_model_reduced.predict(X_test_reduced)\n",
    "\n",
    "from sklearn.metrics import accuracy_score, classification_report\n",
    "print(\"Accuracy:\", accuracy_score(y_test, y_pred))\n",
    "print(classification_report(y_test, y_pred))"
   ]
  },
  {
   "cell_type": "code",
   "execution_count": 34,
   "metadata": {
    "executionInfo": {
     "elapsed": 59,
     "status": "ok",
     "timestamp": 1750423458364,
     "user": {
      "displayName": "Baran Kılınç",
      "userId": "15668208283949447064"
     },
     "user_tz": -180
    },
    "id": "ZudFvWSVxdDr"
   },
   "outputs": [],
   "source": [
    "# Predicted probabilities\n",
    "train_pred_proba = log_model_reduced.predict_proba(X_train_reduced)[:, 1]\n",
    "test_pred_proba = log_model_reduced.predict_proba(X_test_reduced)[:, 1]\n",
    "# Class prediction\n",
    "train_class = (train_pred_proba > 0.5).astype(int)\n",
    "test_class = (test_pred_proba > 0.5).astype(int)"
   ]
  },
  {
   "cell_type": "code",
   "execution_count": 35,
   "metadata": {
    "executionInfo": {
     "elapsed": 49,
     "status": "ok",
     "timestamp": 1750423459146,
     "user": {
      "displayName": "Baran Kılınç",
      "userId": "15668208283949447064"
     },
     "user_tz": -180
    },
    "id": "CWwO-jpsxdHy"
   },
   "outputs": [],
   "source": [
    "# Train confusion matrix\n",
    "cm_train = confusion_matrix(y_train, train_class)\n",
    "tn_train, fp_train, fn_train, tp_train = cm_train.ravel()\n",
    "\n",
    "# Test confusion matrix\n",
    "cm_test = confusion_matrix(y_test, test_class)\n",
    "tn_test, fp_test, fn_test, tp_test = cm_test.ravel()\n",
    "\n",
    "# Performans metrics\n",
    "performance_summary = pd.DataFrame({\n",
    "    \"Metric\": [\"Accuracy\", \"Kappa\", \"Sensitivity (Recall)\", \"Specificity\"],\n",
    "    \"Train\": [\n",
    "        round(accuracy_score(y_train, train_class), 3),\n",
    "        round(cohen_kappa_score(y_train, train_class), 3),\n",
    "        round(recall_score(y_train, train_class), 3),\n",
    "        round(tn_train / (tn_train + fp_train), 3)\n",
    "    ],\n",
    "    \"Test\": [\n",
    "        round(accuracy_score(y_test, test_class), 3),\n",
    "        round(cohen_kappa_score(y_test, test_class), 3),\n",
    "        round(recall_score(y_test, test_class), 3),\n",
    "        round(tn_test / (tn_test + fp_test), 3)\n",
    "    ]\n",
    "})"
   ]
  },
  {
   "cell_type": "code",
   "execution_count": 36,
   "metadata": {
    "colab": {
     "base_uri": "https://localhost:8080/"
    },
    "executionInfo": {
     "elapsed": 9,
     "status": "ok",
     "timestamp": 1750423459752,
     "user": {
      "displayName": "Baran Kılınç",
      "userId": "15668208283949447064"
     },
     "user_tz": -180
    },
    "id": "HaOmm9phxdLI",
    "outputId": "5c0f347b-8e4e-42c2-8093-3d4d953faafe"
   },
   "outputs": [
    {
     "name": "stdout",
     "output_type": "stream",
     "text": [
      "╒════╤══════════════════════╤═════════╤════════╕\n",
      "│    │ Metric               │   Train │   Test │\n",
      "╞════╪══════════════════════╪═════════╪════════╡\n",
      "│  0 │ Accuracy             │   0.868 │  0.869 │\n",
      "├────┼──────────────────────┼─────────┼────────┤\n",
      "│  1 │ Kappa                │   0.73  │  0.731 │\n",
      "├────┼──────────────────────┼─────────┼────────┤\n",
      "│  2 │ Sensitivity (Recall) │   0.824 │  0.82  │\n",
      "├────┼──────────────────────┼─────────┼────────┤\n",
      "│  3 │ Specificity          │   0.902 │  0.906 │\n",
      "╘════╧══════════════════════╧═════════╧════════╛\n"
     ]
    }
   ],
   "source": [
    "print(tabulate(performance_summary, headers=\"keys\", tablefmt=\"fancy_grid\"))"
   ]
  },
  {
   "cell_type": "code",
   "execution_count": 37,
   "metadata": {
    "executionInfo": {
     "elapsed": 37,
     "status": "ok",
     "timestamp": 1750423573346,
     "user": {
      "displayName": "Baran Kılınç",
      "userId": "15668208283949447064"
     },
     "user_tz": -180
    },
    "id": "cqrvfStexdYO"
   },
   "outputs": [],
   "source": [
    "#Decision tree"
   ]
  },
  {
   "cell_type": "code",
   "execution_count": 38,
   "metadata": {
    "colab": {
     "base_uri": "https://localhost:8080/"
    },
    "executionInfo": {
     "elapsed": 338,
     "status": "ok",
     "timestamp": 1750423574398,
     "user": {
      "displayName": "Baran Kılınç",
      "userId": "15668208283949447064"
     },
     "user_tz": -180
    },
    "id": "G-ugD2_gU8E1",
    "outputId": "ee7df4fb-729e-482c-a612-7780b13ee640"
   },
   "outputs": [
    {
     "name": "stdout",
     "output_type": "stream",
     "text": [
      "Train Accuracy: 0.8873144073124728\n",
      "Train Classification Report:\n",
      "              precision    recall  f1-score   support\n",
      "\n",
      "           0       0.89      0.91      0.90     46844\n",
      "           1       0.88      0.86      0.87     35864\n",
      "\n",
      "    accuracy                           0.89     82708\n",
      "   macro avg       0.89      0.88      0.88     82708\n",
      "weighted avg       0.89      0.89      0.89     82708\n",
      "\n",
      "Test Accuracy: 0.8894477222168489\n",
      "Test Classification Report:\n",
      "              precision    recall  f1-score   support\n",
      "\n",
      "           0       0.89      0.91      0.90     11711\n",
      "           1       0.88      0.86      0.87      8967\n",
      "\n",
      "    accuracy                           0.89     20678\n",
      "   macro avg       0.89      0.89      0.89     20678\n",
      "weighted avg       0.89      0.89      0.89     20678\n",
      "\n"
     ]
    }
   ],
   "source": [
    "dt_clf = DecisionTreeClassifier(\n",
    "    max_depth=5,\n",
    "    min_samples_leaf=10,\n",
    "    random_state=412\n",
    ")\n",
    "\n",
    "dt_clf.fit(X_train, y_train)\n",
    "\n",
    "y_train_pred = dt_clf.predict(X_train)\n",
    "print(\"Train Accuracy:\", accuracy_score(y_train, y_train_pred))\n",
    "print(\"Train Classification Report:\")\n",
    "print(classification_report(y_train, y_train_pred))\n",
    "\n",
    "y_test_pred = dt_clf.predict(X_test)\n",
    "print(\"Test Accuracy:\", accuracy_score(y_test, y_test_pred))\n",
    "print(\"Test Classification Report:\")\n",
    "print(classification_report(y_test, y_test_pred))\n"
   ]
  },
  {
   "cell_type": "code",
   "execution_count": 39,
   "metadata": {
    "executionInfo": {
     "elapsed": 35,
     "status": "ok",
     "timestamp": 1750423575521,
     "user": {
      "displayName": "Baran Kılınç",
      "userId": "15668208283949447064"
     },
     "user_tz": -180
    },
    "id": "uBLjHt9FqtW7"
   },
   "outputs": [],
   "source": [
    "def specificity_score(y_true, y_pred):\n",
    "    cm = confusion_matrix(y_true, y_pred)\n",
    "    TN = cm[0, 0]\n",
    "    FP = cm[0, 1]\n",
    "    return TN / (TN + FP)\n",
    "\n",
    "metrics = {\n",
    "    \"Accuracy\": [\n",
    "        accuracy_score(y_train, y_train_pred),\n",
    "        accuracy_score(y_test, y_test_pred)\n",
    "    ],\n",
    "    \"Kappa\": [\n",
    "        cohen_kappa_score(y_train, y_train_pred),\n",
    "        cohen_kappa_score(y_test, y_test_pred)\n",
    "    ],\n",
    "    \"Sensitivity (Recall)\": [\n",
    "        recall_score(y_train, y_train_pred, pos_label=1),\n",
    "        recall_score(y_test, y_test_pred, pos_label=1)\n",
    "    ],\n",
    "    \"Specificity\": [\n",
    "        specificity_score(y_train, y_train_pred),\n",
    "        specificity_score(y_test, y_test_pred)\n",
    "    ]\n",
    "}\n"
   ]
  },
  {
   "cell_type": "code",
   "execution_count": 40,
   "metadata": {
    "colab": {
     "base_uri": "https://localhost:8080/"
    },
    "executionInfo": {
     "elapsed": 35,
     "status": "ok",
     "timestamp": 1750423576157,
     "user": {
      "displayName": "Baran Kılınç",
      "userId": "15668208283949447064"
     },
     "user_tz": -180
    },
    "id": "-HSD7FS1rGBW",
    "outputId": "bc08d440-6327-4671-ceb3-f5e94aca67f0"
   },
   "outputs": [
    {
     "name": "stdout",
     "output_type": "stream",
     "text": [
      "              Metric  Train  Test\n",
      "            Accuracy  0.887 0.889\n",
      "               Kappa  0.770 0.774\n",
      "Sensitivity (Recall)  0.859 0.860\n",
      "         Specificity  0.909 0.912\n"
     ]
    }
   ],
   "source": [
    "df_metrics = pd.DataFrame(metrics)\n",
    "df_metrics = df_metrics.T.reset_index()\n",
    "df_metrics.columns = [\"Metric\", \"Train\", \"Test\"]\n",
    "\n",
    "df_metrics[\"Train\"] = df_metrics[\"Train\"].round(3)\n",
    "df_metrics[\"Test\"] = df_metrics[\"Test\"].round(3)\n",
    "\n",
    "print(df_metrics.to_string(index=False))"
   ]
  },
  {
   "cell_type": "code",
   "execution_count": 41,
   "metadata": {
    "colab": {
     "base_uri": "https://localhost:8080/"
    },
    "executionInfo": {
     "elapsed": 24,
     "status": "ok",
     "timestamp": 1750423577017,
     "user": {
      "displayName": "Baran Kılınç",
      "userId": "15668208283949447064"
     },
     "user_tz": -180
    },
    "id": "TirW__CNrlz1",
    "outputId": "8afdddfb-e4a9-4aba-a434-f0594fa31435"
   },
   "outputs": [
    {
     "name": "stdout",
     "output_type": "stream",
     "text": [
      "╒════╤══════════════════════╤═════════╤════════╕\n",
      "│    │ Metric               │   Train │   Test │\n",
      "╞════╪══════════════════════╪═════════╪════════╡\n",
      "│  0 │ Accuracy             │   0.887 │  0.889 │\n",
      "├────┼──────────────────────┼─────────┼────────┤\n",
      "│  1 │ Kappa                │   0.77  │  0.774 │\n",
      "├────┼──────────────────────┼─────────┼────────┤\n",
      "│  2 │ Sensitivity (Recall) │   0.859 │  0.86  │\n",
      "├────┼──────────────────────┼─────────┼────────┤\n",
      "│  3 │ Specificity          │   0.909 │  0.912 │\n",
      "╘════╧══════════════════════╧═════════╧════════╛\n"
     ]
    }
   ],
   "source": [
    "print(tabulate(df_metrics, headers=\"keys\", tablefmt=\"fancy_grid\"))"
   ]
  },
  {
   "cell_type": "code",
   "execution_count": 42,
   "metadata": {
    "colab": {
     "base_uri": "https://localhost:8080/",
     "height": 607
    },
    "executionInfo": {
     "elapsed": 473,
     "status": "ok",
     "timestamp": 1750423586930,
     "user": {
      "displayName": "Baran Kılınç",
      "userId": "15668208283949447064"
     },
     "user_tz": -180
    },
    "id": "loLWwluas1qc",
    "outputId": "977d5e74-7e15-40c1-d3a1-f76234b1bcee"
   },
   "outputs": [
    {
     "data": {
      "image/png": "[encoded data removed]",
      "text/plain": [
       "<Figure size 800x600 with 1 Axes>"
      ]
     },
     "metadata": {},
     "output_type": "display_data"
    }
   ],
   "source": [
    "# feature importance\n",
    "feature_importances = pd.Series(dt_clf.feature_importances_, index=X_train.columns)\n",
    "feature_importances = feature_importances.sort_values(ascending=False)\n",
    "\n",
    "# first 10\n",
    "plt.figure(figsize=(8, 6))\n",
    "feature_importances.head(10).plot(kind='barh')\n",
    "plt.title(\"Top 10 Important Features in Decision Tree\")\n",
    "plt.xlabel(\"Feature Importance Score\")\n",
    "plt.gca().invert_yaxis()\n",
    "plt.tight_layout()\n",
    "plt.show()"
   ]
  },
  {
   "cell_type": "code",
   "execution_count": 43,
   "metadata": {
    "colab": {
     "base_uri": "https://localhost:8080/",
     "height": 504
    },
    "executionInfo": {
     "elapsed": 1016,
     "status": "ok",
     "timestamp": 1750423589910,
     "user": {
      "displayName": "Baran Kılınç",
      "userId": "15668208283949447064"
     },
     "user_tz": -180
    },
    "id": "mS6KMJk4ALpc",
    "outputId": "22d71888-0e59-4094-dfa9-100f5cc8d899"
   },
   "outputs": [
    {
     "data": {
      "image/png": "[encoded data removed]",
      "text/plain": [
       "<Figure size 2000x1000 with 1 Axes>"
      ]
     },
     "metadata": {},
     "output_type": "display_data"
    }
   ],
   "source": [
    "plt.figure(figsize=(20, 10))\n",
    "plot_tree(dt_clf, feature_names=X_train.columns, class_names=['Dissatisfied', 'Satisfied'],\n",
    "          filled=True, rounded=True, max_depth=3)\n",
    "plt.title(\"Decision Tree (First 3 Levels)\")\n",
    "plt.show()"
   ]
  },
  {
   "cell_type": "code",
   "execution_count": 44,
   "metadata": {
    "executionInfo": {
     "elapsed": 4,
     "status": "ok",
     "timestamp": 1750423591073,
     "user": {
      "displayName": "Baran Kılınç",
      "userId": "15668208283949447064"
     },
     "user_tz": -180
    },
    "id": "-_3-4I5XSayU"
   },
   "outputs": [],
   "source": [
    "#random forest"
   ]
  },
  {
   "cell_type": "code",
   "execution_count": 45,
   "metadata": {
    "colab": {
     "base_uri": "https://localhost:8080/"
    },
    "executionInfo": {
     "elapsed": 8211,
     "status": "ok",
     "timestamp": 1750423600660,
     "user": {
      "displayName": "Baran Kılınç",
      "userId": "15668208283949447064"
     },
     "user_tz": -180
    },
    "id": "dLzDwuj5QUUq",
    "outputId": "e883fda8-a822-4c44-b907-9ff9d290421e"
   },
   "outputs": [
    {
     "name": "stdout",
     "output_type": "stream",
     "text": [
      "Train Accuracy: 0.9068772065580113\n",
      "Train Classification Report:\n",
      "              precision    recall  f1-score   support\n",
      "\n",
      "           0       0.90      0.94      0.92     46844\n",
      "           1       0.92      0.86      0.89     35864\n",
      "\n",
      "    accuracy                           0.91     82708\n",
      "   macro avg       0.91      0.90      0.90     82708\n",
      "weighted avg       0.91      0.91      0.91     82708\n",
      "\n",
      "Test Accuracy: 0.9074378566592514\n",
      "Test Classification Report:\n",
      "              precision    recall  f1-score   support\n",
      "\n",
      "           0       0.90      0.94      0.92     11711\n",
      "           1       0.92      0.86      0.89      8967\n",
      "\n",
      "    accuracy                           0.91     20678\n",
      "   macro avg       0.91      0.90      0.90     20678\n",
      "weighted avg       0.91      0.91      0.91     20678\n",
      "\n"
     ]
    }
   ],
   "source": [
    "rf_clf_limited = RandomForestClassifier(\n",
    "    random_state=412,\n",
    "    n_estimators=100,\n",
    "    max_depth=7,\n",
    "    min_samples_leaf=5,\n",
    "    max_features='sqrt'\n",
    ")\n",
    "\n",
    "rf_clf_limited.fit(X_train, y_train)\n",
    "\n",
    "y_train_pred = rf_clf_limited.predict(X_train)\n",
    "print(\"Train Accuracy:\", accuracy_score(y_train, y_train_pred))\n",
    "print(\"Train Classification Report:\")\n",
    "print(classification_report(y_train, y_train_pred))\n",
    "\n",
    "y_test_pred = rf_clf_limited.predict(X_test)\n",
    "print(\"Test Accuracy:\", accuracy_score(y_test, y_test_pred))\n",
    "print(\"Test Classification Report:\")\n",
    "print(classification_report(y_test, y_test_pred))\n"
   ]
  },
  {
   "cell_type": "code",
   "execution_count": 46,
   "metadata": {
    "colab": {
     "base_uri": "https://localhost:8080/"
    },
    "executionInfo": {
     "elapsed": 42,
     "status": "ok",
     "timestamp": 1750423603379,
     "user": {
      "displayName": "Baran Kılınç",
      "userId": "15668208283949447064"
     },
     "user_tz": -180
    },
    "id": "YARgXB418c8J",
    "outputId": "d83c7aab-6d7d-4a85-9fbe-dde1b0911e76"
   },
   "outputs": [
    {
     "name": "stdout",
     "output_type": "stream",
     "text": [
      "                 Metric  Train   Test\n",
      "0              Accuracy  0.907  0.907\n",
      "1                 Kappa  0.809  0.810\n",
      "2  Sensitivity (Recall)  0.865  0.860\n",
      "3           Specificity  0.939  0.944\n"
     ]
    }
   ],
   "source": [
    "tn_train, fp_train, fn_train, tp_train = confusion_matrix(y_train, y_train_pred).ravel()\n",
    "tn_test, fp_test, fn_test, tp_test = confusion_matrix(y_test, y_test_pred).ravel()\n",
    "\n",
    "metrics = {\n",
    "    \"Metric\": [\"Accuracy\", \"Kappa\", \"Sensitivity (Recall)\", \"Specificity\"],\n",
    "    \"Train\": [\n",
    "        accuracy_score(y_train, y_train_pred),\n",
    "        cohen_kappa_score(y_train, y_train_pred),\n",
    "        recall_score(y_train, y_train_pred),\n",
    "        tn_train / (tn_train + fp_train)  # Specificity = TN / (TN + FP)\n",
    "    ],\n",
    "    \"Test\": [\n",
    "        accuracy_score(y_test, y_test_pred),\n",
    "        cohen_kappa_score(y_test, y_test_pred),\n",
    "        recall_score(y_test, y_test_pred),\n",
    "        tn_test / (tn_test + fp_test)\n",
    "    ]\n",
    "}\n",
    "\n",
    "df_metrics = pd.DataFrame(metrics)\n",
    "print(df_metrics.round(3))\n"
   ]
  },
  {
   "cell_type": "code",
   "execution_count": 47,
   "metadata": {
    "colab": {
     "base_uri": "https://localhost:8080/"
    },
    "executionInfo": {
     "elapsed": 40,
     "status": "ok",
     "timestamp": 1750423604457,
     "user": {
      "displayName": "Baran Kılınç",
      "userId": "15668208283949447064"
     },
     "user_tz": -180
    },
    "id": "vqAzUzpP8-Ff",
    "outputId": "991be694-2e06-4dac-e16e-5dd6c5b62c6a"
   },
   "outputs": [
    {
     "name": "stdout",
     "output_type": "stream",
     "text": [
      "╒════╤══════════════════════╤══════════╤══════════╕\n",
      "│    │ Metric               │    Train │     Test │\n",
      "╞════╪══════════════════════╪══════════╪══════════╡\n",
      "│  0 │ Accuracy             │ 0.906877 │ 0.907438 │\n",
      "├────┼──────────────────────┼──────────┼──────────┤\n",
      "│  1 │ Kappa                │ 0.809156 │ 0.810073 │\n",
      "├────┼──────────────────────┼──────────┼──────────┤\n",
      "│  2 │ Sensitivity (Recall) │ 0.864516 │ 0.859931 │\n",
      "├────┼──────────────────────┼──────────┼──────────┤\n",
      "│  3 │ Specificity          │ 0.939309 │ 0.943814 │\n",
      "╘════╧══════════════════════╧══════════╧══════════╛\n"
     ]
    }
   ],
   "source": [
    "print(tabulate(df_metrics, headers=\"keys\", tablefmt=\"fancy_grid\"))"
   ]
  },
  {
   "cell_type": "code",
   "execution_count": 48,
   "metadata": {
    "colab": {
     "base_uri": "https://localhost:8080/",
     "height": 607
    },
    "executionInfo": {
     "elapsed": 269,
     "status": "ok",
     "timestamp": 1750423606371,
     "user": {
      "displayName": "Baran Kılınç",
      "userId": "15668208283949447064"
     },
     "user_tz": -180
    },
    "id": "EHSRLFDFAtOb",
    "outputId": "2a5c7965-f1d3-41e2-809d-d80dd1c9f654"
   },
   "outputs": [
    {
     "data": {
      "image/png": "[encoded data removed]",
      "text/plain": [
       "<Figure size 800x600 with 1 Axes>"
      ]
     },
     "metadata": {},
     "output_type": "display_data"
    }
   ],
   "source": [
    "\n",
    "feature_importances_rf = pd.Series(rf_clf_limited.feature_importances_, index=X_train.columns)\n",
    "feature_importances_rf = feature_importances_rf.sort_values(ascending=False)\n",
    "\n",
    "plt.figure(figsize=(8, 6))\n",
    "feature_importances_rf.head(10).plot(kind='barh', color='forestgreen')\n",
    "plt.title(\"Top 10 Important Features in Random Forest\")\n",
    "plt.xlabel(\"Feature Importance Score\")\n",
    "plt.gca().invert_yaxis()\n",
    "plt.tight_layout()\n",
    "plt.show()\n"
   ]
  },
  {
   "cell_type": "code",
   "execution_count": 49,
   "metadata": {
    "executionInfo": {
     "elapsed": 40,
     "status": "ok",
     "timestamp": 1750423607556,
     "user": {
      "displayName": "Baran Kılınç",
      "userId": "15668208283949447064"
     },
     "user_tz": -180
    },
    "id": "mbhywB5UQr6w"
   },
   "outputs": [],
   "source": [
    "#Bagging Classifier"
   ]
  },
  {
   "cell_type": "code",
   "execution_count": 50,
   "metadata": {
    "colab": {
     "base_uri": "https://localhost:8080/"
    },
    "executionInfo": {
     "elapsed": 21127,
     "status": "ok",
     "timestamp": 1750423629311,
     "user": {
      "displayName": "Baran Kılınç",
      "userId": "15668208283949447064"
     },
     "user_tz": -180
    },
    "id": "KNzA0RX5SW9l",
    "outputId": "abbd5fdc-fe9e-4e3a-e9f7-2bb95071c94a"
   },
   "outputs": [
    {
     "name": "stdout",
     "output_type": "stream",
     "text": [
      "Train Accuracy: 0.8879673066692461\n",
      "Train Classification Report:\n",
      "              precision    recall  f1-score   support\n",
      "\n",
      "           0       0.90      0.91      0.90     46844\n",
      "           1       0.88      0.86      0.87     35864\n",
      "\n",
      "    accuracy                           0.89     82708\n",
      "   macro avg       0.89      0.89      0.89     82708\n",
      "weighted avg       0.89      0.89      0.89     82708\n",
      "\n",
      "Test Accuracy: 0.8894960827933069\n",
      "Test Classification Report:\n",
      "              precision    recall  f1-score   support\n",
      "\n",
      "           0       0.90      0.91      0.90     11711\n",
      "           1       0.88      0.87      0.87      8967\n",
      "\n",
      "    accuracy                           0.89     20678\n",
      "   macro avg       0.89      0.89      0.89     20678\n",
      "weighted avg       0.89      0.89      0.89     20678\n",
      "\n"
     ]
    }
   ],
   "source": [
    "base_estimator = DecisionTreeClassifier(max_depth=5, min_samples_leaf=10, random_state=412)\n",
    "\n",
    "bagging_clf = BaggingClassifier(\n",
    "    estimator=base_estimator,\n",
    "    n_estimators=100,\n",
    "    max_samples=0.8,\n",
    "    max_features=1.0,\n",
    "    random_state=412\n",
    ")\n",
    "\n",
    "bagging_clf.fit(X_train, y_train)\n",
    "\n",
    "y_train_pred = bagging_clf.predict(X_train)\n",
    "print(\"Train Accuracy:\", accuracy_score(y_train, y_train_pred))\n",
    "print(\"Train Classification Report:\")\n",
    "print(classification_report(y_train, y_train_pred))\n",
    "\n",
    "y_test_pred = bagging_clf.predict(X_test)\n",
    "print(\"Test Accuracy:\", accuracy_score(y_test, y_test_pred))\n",
    "print(\"Test Classification Report:\")\n",
    "print(classification_report(y_test, y_test_pred))\n"
   ]
  },
  {
   "cell_type": "code",
   "execution_count": 51,
   "metadata": {
    "colab": {
     "base_uri": "https://localhost:8080/"
    },
    "executionInfo": {
     "elapsed": 153,
     "status": "ok",
     "timestamp": 1750423632690,
     "user": {
      "displayName": "Baran Kılınç",
      "userId": "15668208283949447064"
     },
     "user_tz": -180
    },
    "id": "IR9GTJ1kDtci",
    "outputId": "77557f68-6aed-4ed8-9452-3c6f064578e6"
   },
   "outputs": [
    {
     "name": "stdout",
     "output_type": "stream",
     "text": [
      "                 Metric  Train   Test\n",
      "0              Accuracy  0.888  0.889\n",
      "1                 Kappa  0.772  0.775\n",
      "2  Sensitivity (Recall)  0.865  0.866\n",
      "3           Specificity  0.906  0.908\n"
     ]
    }
   ],
   "source": [
    "tn_train, fp_train, fn_train, tp_train = confusion_matrix(y_train, y_train_pred).ravel()\n",
    "\n",
    "tn_test, fp_test, fn_test, tp_test = confusion_matrix(y_test, y_test_pred).ravel()\n",
    "\n",
    "metrics = {\n",
    "    \"Metric\": [\"Accuracy\", \"Kappa\", \"Sensitivity (Recall)\", \"Specificity\"],\n",
    "    \"Train\": [\n",
    "        accuracy_score(y_train, y_train_pred),\n",
    "        cohen_kappa_score(y_train, y_train_pred),\n",
    "        recall_score(y_train, y_train_pred),\n",
    "        tn_train / (tn_train + fp_train)\n",
    "    ],\n",
    "    \"Test\": [\n",
    "        accuracy_score(y_test, y_test_pred),\n",
    "        cohen_kappa_score(y_test, y_test_pred),\n",
    "        recall_score(y_test, y_test_pred),\n",
    "        tn_test / (tn_test + fp_test)\n",
    "    ]\n",
    "}\n",
    "\n",
    "df_metrics = pd.DataFrame(metrics)\n",
    "print(df_metrics.round(3))"
   ]
  },
  {
   "cell_type": "code",
   "execution_count": 52,
   "metadata": {
    "colab": {
     "base_uri": "https://localhost:8080/"
    },
    "executionInfo": {
     "elapsed": 37,
     "status": "ok",
     "timestamp": 1750423633848,
     "user": {
      "displayName": "Baran Kılınç",
      "userId": "15668208283949447064"
     },
     "user_tz": -180
    },
    "id": "txDMp3_XDtpA",
    "outputId": "9a24cb07-7d70-4902-fcab-7b6e21ce4376"
   },
   "outputs": [
    {
     "name": "stdout",
     "output_type": "stream",
     "text": [
      "╒════╤══════════════════════╤══════════╤══════════╕\n",
      "│    │ Metric               │    Train │     Test │\n",
      "╞════╪══════════════════════╪══════════╪══════════╡\n",
      "│  0 │ Accuracy             │ 0.887967 │ 0.889496 │\n",
      "├────┼──────────────────────┼──────────┼──────────┤\n",
      "│  1 │ Kappa                │ 0.77158  │ 0.774657 │\n",
      "├────┼──────────────────────┼──────────┼──────────┤\n",
      "│  2 │ Sensitivity (Recall) │ 0.864572 │ 0.865507 │\n",
      "├────┼──────────────────────┼──────────┼──────────┤\n",
      "│  3 │ Specificity          │ 0.905879 │ 0.907864 │\n",
      "╘════╧══════════════════════╧══════════╧══════════╛\n"
     ]
    }
   ],
   "source": [
    "print(tabulate(df_metrics, headers=\"keys\", tablefmt=\"fancy_grid\"))"
   ]
  },
  {
   "cell_type": "code",
   "execution_count": 53,
   "metadata": {
    "executionInfo": {
     "elapsed": 5,
     "status": "ok",
     "timestamp": 1750423635233,
     "user": {
      "displayName": "Baran Kılınç",
      "userId": "15668208283949447064"
     },
     "user_tz": -180
    },
    "id": "6zrtk0QxT_Rh"
   },
   "outputs": [],
   "source": [
    "#XGBoost"
   ]
  },
  {
   "cell_type": "code",
   "execution_count": 54,
   "metadata": {
    "colab": {
     "base_uri": "https://localhost:8080/"
    },
    "executionInfo": {
     "elapsed": 1719,
     "status": "ok",
     "timestamp": 1750423637823,
     "user": {
      "displayName": "Baran Kılınç",
      "userId": "15668208283949447064"
     },
     "user_tz": -180
    },
    "id": "_IfAV-3fUKcE",
    "outputId": "ac420d06-e781-4cea-d43a-b4fe86f8517c"
   },
   "outputs": [
    {
     "name": "stdout",
     "output_type": "stream",
     "text": [
      "Train Accuracy: 0.9476713256275088\n",
      "Train Classification Report:\n",
      "              precision    recall  f1-score   support\n",
      "\n",
      "           0       0.94      0.97      0.95     46844\n",
      "           1       0.95      0.92      0.94     35864\n",
      "\n",
      "    accuracy                           0.95     82708\n",
      "   macro avg       0.95      0.95      0.95     82708\n",
      "weighted avg       0.95      0.95      0.95     82708\n",
      "\n",
      "Test Accuracy: 0.9277976593480994\n",
      "Test Classification Report:\n",
      "              precision    recall  f1-score   support\n",
      "\n",
      "           0       0.93      0.95      0.94     11711\n",
      "           1       0.93      0.90      0.92      8967\n",
      "\n",
      "    accuracy                           0.93     20678\n",
      "   macro avg       0.93      0.92      0.93     20678\n",
      "weighted avg       0.93      0.93      0.93     20678\n",
      "\n"
     ]
    }
   ],
   "source": [
    "xgb_clf = XGBClassifier(use_label_encoder=False, eval_metric='logloss', random_state=412)\n",
    "xgb_clf.fit(X_train, y_train)\n",
    "\n",
    "y_train_pred = xgb_clf.predict(X_train)\n",
    "print(\"Train Accuracy:\", accuracy_score(y_train, y_train_pred))\n",
    "print(\"Train Classification Report:\")\n",
    "print(classification_report(y_train, y_train_pred))\n",
    "\n",
    "y_test_pred = xgb_clf.predict(X_test)\n",
    "print(\"Test Accuracy:\", accuracy_score(y_test, y_test_pred))\n",
    "print(\"Test Classification Report:\")\n",
    "print(classification_report(y_test, y_test_pred))"
   ]
  },
  {
   "cell_type": "code",
   "execution_count": 55,
   "metadata": {
    "colab": {
     "base_uri": "https://localhost:8080/"
    },
    "executionInfo": {
     "elapsed": 66,
     "status": "ok",
     "timestamp": 1750423638795,
     "user": {
      "displayName": "Baran Kılınç",
      "userId": "15668208283949447064"
     },
     "user_tz": -180
    },
    "id": "RA0ZjkkLJDA1",
    "outputId": "a78d5674-bc63-4a83-e424-57a4c37929e5"
   },
   "outputs": [
    {
     "name": "stdout",
     "output_type": "stream",
     "text": [
      "                 Metric  Train   Test\n",
      "0              Accuracy  0.948  0.928\n",
      "1                 Kappa  0.893  0.853\n",
      "2  Sensitivity (Recall)  0.925  0.903\n",
      "3           Specificity  0.965  0.947\n"
     ]
    }
   ],
   "source": [
    "\n",
    "tn_train, fp_train, fn_train, tp_train = confusion_matrix(y_train, y_train_pred).ravel()\n",
    "tn_test, fp_test, fn_test, tp_test = confusion_matrix(y_test, y_test_pred).ravel()\n",
    "\n",
    "metrics = {\n",
    "    \"Metric\": [\"Accuracy\", \"Kappa\", \"Sensitivity (Recall)\", \"Specificity\"],\n",
    "    \"Train\": [\n",
    "        accuracy_score(y_train, y_train_pred),\n",
    "        cohen_kappa_score(y_train, y_train_pred),\n",
    "        recall_score(y_train, y_train_pred),\n",
    "        tn_train / (tn_train + fp_train)\n",
    "    ],\n",
    "    \"Test\": [\n",
    "        accuracy_score(y_test, y_test_pred),\n",
    "        cohen_kappa_score(y_test, y_test_pred),\n",
    "        recall_score(y_test, y_test_pred),\n",
    "        tn_test / (tn_test + fp_test)\n",
    "    ]\n",
    "}\n",
    "\n",
    "df_metrics = pd.DataFrame(metrics)\n",
    "print(df_metrics.round(3))"
   ]
  },
  {
   "cell_type": "code",
   "execution_count": 56,
   "metadata": {
    "colab": {
     "base_uri": "https://localhost:8080/"
    },
    "executionInfo": {
     "elapsed": 7,
     "status": "ok",
     "timestamp": 1750423639625,
     "user": {
      "displayName": "Baran Kılınç",
      "userId": "15668208283949447064"
     },
     "user_tz": -180
    },
    "id": "TnIPJfkkJOW0",
    "outputId": "00b709d5-6504-455b-e139-40962481da39"
   },
   "outputs": [
    {
     "name": "stdout",
     "output_type": "stream",
     "text": [
      "╒════╤══════════════════════╤══════════╤══════════╕\n",
      "│    │ Metric               │    Train │     Test │\n",
      "╞════╪══════════════════════╪══════════╪══════════╡\n",
      "│  0 │ Accuracy             │ 0.947671 │ 0.927798 │\n",
      "├────┼──────────────────────┼──────────┼──────────┤\n",
      "│  1 │ Kappa                │ 0.893097 │ 0.852519 │\n",
      "├────┼──────────────────────┼──────────┼──────────┤\n",
      "│  2 │ Sensitivity (Recall) │ 0.924967 │ 0.902643 │\n",
      "├────┼──────────────────────┼──────────┼──────────┤\n",
      "│  3 │ Specificity          │ 0.965054 │ 0.947058 │\n",
      "╘════╧══════════════════════╧══════════╧══════════╛\n"
     ]
    }
   ],
   "source": [
    "print(tabulate(df_metrics, headers=\"keys\", tablefmt=\"fancy_grid\"))"
   ]
  },
  {
   "cell_type": "code",
   "execution_count": 57,
   "metadata": {
    "colab": {
     "base_uri": "https://localhost:8080/",
     "height": 452
    },
    "executionInfo": {
     "elapsed": 332,
     "status": "ok",
     "timestamp": 1750423653142,
     "user": {
      "displayName": "Baran Kılınç",
      "userId": "15668208283949447064"
     },
     "user_tz": -180
    },
    "id": "dV5pyf0vJ1t_",
    "outputId": "d1c23c92-a68a-48b7-d25e-b07adfa63244"
   },
   "outputs": [
    {
     "data": {
      "image/png": "[encoded data removed]",
      "text/plain": [
       "<Figure size 640x480 with 1 Axes>"
      ]
     },
     "metadata": {},
     "output_type": "display_data"
    }
   ],
   "source": [
    "feature_importances = pd.Series(xgb_clf.feature_importances_, index=X_train.columns)\n",
    "feature_importances = feature_importances.sort_values(ascending=False)\n",
    "\n",
    "feature_importances.head(10).plot(kind='barh')\n",
    "plt.title(\"Top 10 Important Features\")\n",
    "plt.gca().invert_yaxis()\n",
    "plt.show()\n"
   ]
  },
  {
   "cell_type": "code",
   "execution_count": 58,
   "metadata": {
    "executionInfo": {
     "elapsed": 3,
     "status": "ok",
     "timestamp": 1750423654492,
     "user": {
      "displayName": "Baran Kılınç",
      "userId": "15668208283949447064"
     },
     "user_tz": -180
    },
    "id": "Arnw4hxMUU7G"
   },
   "outputs": [],
   "source": [
    "#KNN"
   ]
  },
  {
   "cell_type": "code",
   "execution_count": 59,
   "metadata": {
    "colab": {
     "base_uri": "https://localhost:8080/"
    },
    "executionInfo": {
     "elapsed": 60794,
     "status": "ok",
     "timestamp": 1750423716330,
     "user": {
      "displayName": "Baran Kılınç",
      "userId": "15668208283949447064"
     },
     "user_tz": -180
    },
    "id": "qisKATUnWpk9",
    "outputId": "57e78a28-602f-4a35-be66-b6f8277f1683"
   },
   "outputs": [
    {
     "name": "stdout",
     "output_type": "stream",
     "text": [
      "Train Accuracy: 0.9238404991052861\n",
      "Test Accuracy: 0.8992649192378374\n",
      "\n",
      "Classification Report (Train Set):\n",
      "              precision    recall  f1-score   support\n",
      "\n",
      "           0       0.91      0.96      0.93     46844\n",
      "           1       0.95      0.87      0.91     35864\n",
      "\n",
      "    accuracy                           0.92     82708\n",
      "   macro avg       0.93      0.92      0.92     82708\n",
      "weighted avg       0.93      0.92      0.92     82708\n",
      "\n",
      "\n",
      "Classification Report (Test Set):\n",
      "              precision    recall  f1-score   support\n",
      "\n",
      "           0       0.88      0.95      0.91     11711\n",
      "           1       0.92      0.84      0.88      8967\n",
      "\n",
      "    accuracy                           0.90     20678\n",
      "   macro avg       0.90      0.89      0.90     20678\n",
      "weighted avg       0.90      0.90      0.90     20678\n",
      "\n",
      "\n",
      "Confusion Matrix (Test Set):\n",
      "[[11089   622]\n",
      " [ 1461  7506]]\n"
     ]
    }
   ],
   "source": [
    "\n",
    "# KNN model\n",
    "knn_model = KNeighborsClassifier(n_neighbors=5)\n",
    "knn_model.fit(X_train, y_train)\n",
    "\n",
    "\n",
    "y_train_pred = knn_model.predict(X_train)\n",
    "y_test_pred = knn_model.predict(X_test)\n",
    "\n",
    "# PerformanCE metrics\n",
    "print(\"Train Accuracy:\", accuracy_score(y_train, y_train_pred))\n",
    "print(\"Test Accuracy:\", accuracy_score(y_test, y_test_pred))\n",
    "\n",
    "print(\"\\nClassification Report (Train Set):\")\n",
    "print(classification_report(y_train, y_train_pred))\n",
    "\n",
    "print(\"\\nClassification Report (Test Set):\")\n",
    "print(classification_report(y_test, y_test_pred))\n",
    "\n",
    "print(\"\\nConfusion Matrix (Test Set):\")\n",
    "print(confusion_matrix(y_test, y_test_pred))\n"
   ]
  },
  {
   "cell_type": "code",
   "execution_count": 60,
   "metadata": {
    "colab": {
     "base_uri": "https://localhost:8080/"
    },
    "executionInfo": {
     "elapsed": 52,
     "status": "ok",
     "timestamp": 1750423721732,
     "user": {
      "displayName": "Baran Kılınç",
      "userId": "15668208283949447064"
     },
     "user_tz": -180
    },
    "id": "4iT_qJ49E8uW",
    "outputId": "b0f1f882-e684-43d9-ce5a-46e1e5899dcb"
   },
   "outputs": [
    {
     "name": "stdout",
     "output_type": "stream",
     "text": [
      "                 Metric  Train   Test\n",
      "0              Accuracy  0.924  0.899\n",
      "1                 Kappa  0.844  0.793\n",
      "2  Sensitivity (Recall)  0.875  0.837\n",
      "3           Specificity  0.961  0.947\n"
     ]
    }
   ],
   "source": [
    "tn_train, fp_train, fn_train, tp_train = confusion_matrix(y_train, y_train_pred).ravel()\n",
    "\n",
    "tn_test, fp_test, fn_test, tp_test = confusion_matrix(y_test, y_test_pred).ravel()\n",
    "\n",
    "metrics = {\n",
    "    \"Metric\": [\"Accuracy\", \"Kappa\", \"Sensitivity (Recall)\", \"Specificity\"],\n",
    "    \"Train\": [\n",
    "        accuracy_score(y_train, y_train_pred),\n",
    "        cohen_kappa_score(y_train, y_train_pred),\n",
    "        recall_score(y_train, y_train_pred),\n",
    "        tn_train / (tn_train + fp_train)\n",
    "    ],\n",
    "    \"Test\": [\n",
    "        accuracy_score(y_test, y_test_pred),\n",
    "        cohen_kappa_score(y_test, y_test_pred),\n",
    "        recall_score(y_test, y_test_pred),\n",
    "        tn_test / (tn_test + fp_test)\n",
    "    ]\n",
    "}\n",
    "\n",
    "df_metrics = pd.DataFrame(metrics)\n",
    "print(df_metrics.round(3))"
   ]
  },
  {
   "cell_type": "code",
   "execution_count": 61,
   "metadata": {
    "colab": {
     "base_uri": "https://localhost:8080/"
    },
    "executionInfo": {
     "elapsed": 11,
     "status": "ok",
     "timestamp": 1750423722872,
     "user": {
      "displayName": "Baran Kılınç",
      "userId": "15668208283949447064"
     },
     "user_tz": -180
    },
    "id": "G9lHqZHSE85b",
    "outputId": "d35d9e29-e742-4d53-98de-e9b8c1924e3a"
   },
   "outputs": [
    {
     "name": "stdout",
     "output_type": "stream",
     "text": [
      "╒════╤══════════════════════╤══════════╤══════════╕\n",
      "│    │ Metric               │    Train │     Test │\n",
      "╞════╪══════════════════════╪══════════╪══════════╡\n",
      "│  0 │ Accuracy             │ 0.92384  │ 0.899265 │\n",
      "├────┼──────────────────────┼──────────┼──────────┤\n",
      "│  1 │ Kappa                │ 0.843581 │ 0.792645 │\n",
      "├────┼──────────────────────┼──────────┼──────────┤\n",
      "│  2 │ Sensitivity (Recall) │ 0.874888 │ 0.837069 │\n",
      "├────┼──────────────────────┼──────────┼──────────┤\n",
      "│  3 │ Specificity          │ 0.961318 │ 0.946888 │\n",
      "╘════╧══════════════════════╧══════════╧══════════╛\n"
     ]
    }
   ],
   "source": [
    "print(tabulate(df_metrics, headers=\"keys\", tablefmt=\"fancy_grid\"))"
   ]
  },
  {
   "cell_type": "code",
   "execution_count": 62,
   "metadata": {
    "executionInfo": {
     "elapsed": 18,
     "status": "ok",
     "timestamp": 1750423724063,
     "user": {
      "displayName": "Baran Kılınç",
      "userId": "15668208283949447064"
     },
     "user_tz": -180
    },
    "id": "eEBQszD1WzsH"
   },
   "outputs": [],
   "source": [
    "#Linear SVC"
   ]
  },
  {
   "cell_type": "code",
   "execution_count": 63,
   "metadata": {
    "colab": {
     "base_uri": "https://localhost:8080/"
    },
    "executionInfo": {
     "elapsed": 805,
     "status": "ok",
     "timestamp": 1750423725991,
     "user": {
      "displayName": "Baran Kılınç",
      "userId": "15668208283949447064"
     },
     "user_tz": -180
    },
    "id": "7Rs3P3gUY0L6",
    "outputId": "a9a963fb-6db3-4171-f5f1-68e7fb3551c0"
   },
   "outputs": [
    {
     "name": "stdout",
     "output_type": "stream",
     "text": [
      "Train Accuracy: 0.8680055133723461\n",
      "Test Accuracy: 0.8683625108811297\n",
      "\n",
      "Classification Report (Test Set):\n",
      "              precision    recall  f1-score   support\n",
      "\n",
      "           0       0.87      0.91      0.89     46844\n",
      "           1       0.87      0.82      0.84     35864\n",
      "\n",
      "    accuracy                           0.87     82708\n",
      "   macro avg       0.87      0.86      0.86     82708\n",
      "weighted avg       0.87      0.87      0.87     82708\n",
      "\n",
      "\n",
      "Classification Report (Test Set):\n",
      "              precision    recall  f1-score   support\n",
      "\n",
      "           0       0.87      0.91      0.89     11711\n",
      "           1       0.87      0.82      0.84      8967\n",
      "\n",
      "    accuracy                           0.87     20678\n",
      "   macro avg       0.87      0.86      0.86     20678\n",
      "weighted avg       0.87      0.87      0.87     20678\n",
      "\n",
      "\n",
      "Confusion Matrix (Test Set):\n",
      "[[10635  1076]\n",
      " [ 1646  7321]]\n"
     ]
    }
   ],
   "source": [
    "from sklearn.svm import LinearSVC\n",
    "from sklearn.metrics import accuracy_score, classification_report, confusion_matrix\n",
    "\n",
    "# LinearSVC model\n",
    "svc_model = LinearSVC(max_iter=10000, random_state=412)\n",
    "svc_model.fit(X_train, y_train)\n",
    "\n",
    "\n",
    "y_train_pred = svc_model.predict(X_train)\n",
    "y_test_pred = svc_model.predict(X_test)\n",
    "\n",
    "# PerformanCE\n",
    "print(\"Train Accuracy:\", accuracy_score(y_train, y_train_pred))\n",
    "print(\"Test Accuracy:\", accuracy_score(y_test, y_test_pred))\n",
    "\n",
    "print(\"\\nClassification Report (Test Set):\")\n",
    "print(classification_report(y_train, y_train_pred))\n",
    "\n",
    "print(\"\\nClassification Report (Test Set):\")\n",
    "print(classification_report(y_test, y_test_pred))\n",
    "\n",
    "print(\"\\nConfusion Matrix (Test Set):\")\n",
    "print(confusion_matrix(y_test, y_test_pred))\n"
   ]
  },
  {
   "cell_type": "code",
   "execution_count": 64,
   "metadata": {
    "executionInfo": {
     "elapsed": 20,
     "status": "ok",
     "timestamp": 1750423727175,
     "user": {
      "displayName": "Baran Kılınç",
      "userId": "15668208283949447064"
     },
     "user_tz": -180
    },
    "id": "Mi_U50srd-CP"
   },
   "outputs": [],
   "source": [
    "#Stochastic Gradient Boosting"
   ]
  },
  {
   "cell_type": "code",
   "execution_count": 65,
   "metadata": {
    "colab": {
     "base_uri": "https://localhost:8080/"
    },
    "executionInfo": {
     "elapsed": 14260,
     "status": "ok",
     "timestamp": 1750423742360,
     "user": {
      "displayName": "Baran Kılınç",
      "userId": "15668208283949447064"
     },
     "user_tz": -180
    },
    "id": "gNH47RHGZEML",
    "outputId": "40ad77fd-222a-4d77-c8fd-b64d19bc1ea2"
   },
   "outputs": [
    {
     "name": "stdout",
     "output_type": "stream",
     "text": [
      "Train Accuracy: 0.9123301252599507\n",
      "Test Accuracy: 0.9131444046813038\n",
      "\n",
      "Classification Report (Train Set):\n",
      "              precision    recall  f1-score   support\n",
      "\n",
      "           0       0.91      0.94      0.92     46844\n",
      "           1       0.91      0.88      0.90     35864\n",
      "\n",
      "    accuracy                           0.91     82708\n",
      "   macro avg       0.91      0.91      0.91     82708\n",
      "weighted avg       0.91      0.91      0.91     82708\n",
      "\n",
      "\n",
      "Classification Report (Test Set):\n",
      "              precision    recall  f1-score   support\n",
      "\n",
      "           0       0.91      0.94      0.92     11711\n",
      "           1       0.92      0.88      0.90      8967\n",
      "\n",
      "    accuracy                           0.91     20678\n",
      "   macro avg       0.91      0.91      0.91     20678\n",
      "weighted avg       0.91      0.91      0.91     20678\n",
      "\n",
      "\n",
      "Confusion Matrix (Test Set):\n",
      "[[10979   732]\n",
      " [ 1064  7903]]\n"
     ]
    }
   ],
   "source": [
    "\n",
    "# Stochastic Gradient Boosting model\n",
    "sgb_model = GradientBoostingClassifier(\n",
    "    n_estimators=100,\n",
    "    learning_rate=0.1,\n",
    "    subsample=0.8,\n",
    "    max_depth=3,\n",
    "    random_state=412\n",
    ")\n",
    "\n",
    "\n",
    "sgb_model.fit(X_train, y_train)\n",
    "\n",
    "\n",
    "y_train_pred = sgb_model.predict(X_train)\n",
    "y_test_pred = sgb_model.predict(X_test)\n",
    "\n",
    "\n",
    "print(\"Train Accuracy:\", accuracy_score(y_train, y_train_pred))\n",
    "print(\"Test Accuracy:\", accuracy_score(y_test, y_test_pred))\n",
    "\n",
    "print(\"\\nClassification Report (Train Set):\")\n",
    "print(classification_report(y_train, y_train_pred))\n",
    "\n",
    "print(\"\\nClassification Report (Test Set):\")\n",
    "print(classification_report(y_test, y_test_pred))\n",
    "\n",
    "print(\"\\nConfusion Matrix (Test Set):\")\n",
    "print(confusion_matrix(y_test, y_test_pred))\n"
   ]
  },
  {
   "cell_type": "code",
   "execution_count": 66,
   "metadata": {
    "executionInfo": {
     "elapsed": 37,
     "status": "ok",
     "timestamp": 1750423743998,
     "user": {
      "displayName": "Baran Kılınç",
      "userId": "15668208283949447064"
     },
     "user_tz": -180
    },
    "id": "ujNguQ6Nh068"
   },
   "outputs": [],
   "source": [
    "#Model comparision"
   ]
  },
  {
   "cell_type": "code",
   "execution_count": 67,
   "metadata": {
    "executionInfo": {
     "elapsed": 21,
     "status": "ok",
     "timestamp": 1750423745026,
     "user": {
      "displayName": "Baran Kılınç",
      "userId": "15668208283949447064"
     },
     "user_tz": -180
    },
    "id": "IR_qFbfph1Bs"
   },
   "outputs": [],
   "source": [
    "models = {\n",
    "    'Logistic Regression': log_model,\n",
    "    'Decision Tree': dt_clf,\n",
    "    'Random Forest': rf_clf_limited,\n",
    "    'Bagging Classifier': bagging_clf,\n",
    "    'XGBoost': xgb_clf,\n",
    "    'KNN': knn_model,\n",
    "    'Linear SVC': svc_model,\n",
    "    'SGBoosting': sgb_model\n",
    "}\n"
   ]
  },
  {
   "cell_type": "code",
   "execution_count": 68,
   "metadata": {
    "executionInfo": {
     "elapsed": 324760,
     "status": "ok",
     "timestamp": 1750424071133,
     "user": {
      "displayName": "Baran Kılınç",
      "userId": "15668208283949447064"
     },
     "user_tz": -180
    },
    "id": "leveNE18jLug"
   },
   "outputs": [],
   "source": [
    "results = []\n",
    "\n",
    "for name, model in models.items():\n",
    "    model.fit(X_train, y_train)\n",
    "\n",
    "    # CV\n",
    "    cv_scores = cross_val_score(model, X_train, y_train, cv=5, scoring='accuracy')\n",
    "    mean_cv = cv_scores.mean()\n",
    "    std_cv = cv_scores.std()\n",
    "\n",
    "    # Accuracy\n",
    "    train_score = model.score(X_train, y_train)\n",
    "    test_score = model.score(X_test, y_test)\n",
    "\n",
    "    # Predict\n",
    "    y_pred = model.predict(X_test)\n",
    "\n",
    "    # other metrics\n",
    "    precision = precision_score(y_test, y_pred, pos_label=1)\n",
    "    recall = recall_score(y_test, y_pred, pos_label=1)\n",
    "    f1 = f1_score(y_test, y_pred, pos_label=1)\n",
    "\n",
    "    # add results\n",
    "    results.append({\n",
    "        'Model': name,\n",
    "        'Mean_CV': round(mean_cv, 4),\n",
    "        'Std_CV': round(std_cv, 4),\n",
    "        'Train_Score': round(train_score, 4),\n",
    "        'Test_Score': round(test_score, 4),\n",
    "        'Precision_Score': round(precision, 4),\n",
    "        'Recall_Score': round(recall, 4),\n",
    "        'F1_Score': round(f1, 4)\n",
    "    })\n",
    "\n",
    "df_results = pd.DataFrame(results)\n",
    "df_results = df_results.sort_values(by=\"F1_Score\", ascending=False)\n"
   ]
  },
  {
   "cell_type": "code",
   "execution_count": 69,
   "metadata": {
    "colab": {
     "base_uri": "https://localhost:8080/"
    },
    "executionInfo": {
     "elapsed": 62,
     "status": "ok",
     "timestamp": 1750424071242,
     "user": {
      "displayName": "Baran Kılınç",
      "userId": "15668208283949447064"
     },
     "user_tz": -180
    },
    "id": "KnKIzqgijL2n",
    "outputId": "84893e49-8eeb-43a6-bfed-94be96c61752"
   },
   "outputs": [
    {
     "name": "stdout",
     "output_type": "stream",
     "text": [
      "                 Model  Mean_CV  Std_CV  Train_Score  Test_Score  \\\n",
      "4              XGBoost   0.9258  0.0027       0.9477      0.9278   \n",
      "7           SGBoosting   0.9120  0.0026       0.9123      0.9131   \n",
      "2        Random Forest   0.9055  0.0027       0.9069      0.9074   \n",
      "5                  KNN   0.8974  0.0028       0.9238      0.8993   \n",
      "3   Bagging Classifier   0.8876  0.0027       0.8880      0.8895   \n",
      "1        Decision Tree   0.8866  0.0026       0.8873      0.8894   \n",
      "0  Logistic Regression   0.8679  0.0029       0.8681      0.8687   \n",
      "6           Linear SVC   0.8678  0.0028       0.8680      0.8684   \n",
      "\n",
      "   Precision_Score  Recall_Score  F1_Score  \n",
      "4           0.9289        0.9026    0.9156  \n",
      "7           0.9152        0.8813    0.8980  \n",
      "2           0.9214        0.8599    0.8896  \n",
      "5           0.9235        0.8371    0.8782  \n",
      "3           0.8779        0.8655    0.8717  \n",
      "1           0.8821        0.8600    0.8709  \n",
      "0           0.8689        0.8211    0.8443  \n",
      "6           0.8719        0.8164    0.8432  \n"
     ]
    }
   ],
   "source": [
    "print(df_results)"
   ]
  },
  {
   "cell_type": "code",
   "execution_count": 71,
   "metadata": {
    "colab": {
     "base_uri": "https://localhost:8080/"
    },
    "executionInfo": {
     "elapsed": 10,
     "status": "ok",
     "timestamp": 1750424398854,
     "user": {
      "displayName": "Baran Kılınç",
      "userId": "15668208283949447064"
     },
     "user_tz": -180
    },
    "id": "Q9ojSG6km0DR",
    "outputId": "31bfb021-b158-4f9b-e1de-1b8db63bb805"
   },
   "outputs": [
    {
     "name": "stdout",
     "output_type": "stream",
     "text": [
      "              Model  Mean_CV  Std_CV  Train_Score  Test_Score  Precision_Score  Recall_Score  F1_Score\n",
      "            XGBoost   0.9258  0.0027       0.9477      0.9278           0.9289        0.9026    0.9156\n",
      "         SGBoosting   0.9120  0.0026       0.9123      0.9131           0.9152        0.8813    0.8980\n",
      "      Random Forest   0.9055  0.0027       0.9069      0.9074           0.9214        0.8599    0.8896\n",
      "                KNN   0.8974  0.0028       0.9238      0.8993           0.9235        0.8371    0.8782\n",
      " Bagging Classifier   0.8876  0.0027       0.8880      0.8895           0.8779        0.8655    0.8717\n",
      "      Decision Tree   0.8866  0.0026       0.8873      0.8894           0.8821        0.8600    0.8709\n",
      "Logistic Regression   0.8679  0.0029       0.8681      0.8687           0.8689        0.8211    0.8443\n",
      "         Linear SVC   0.8678  0.0028       0.8680      0.8684           0.8719        0.8164    0.8432\n"
     ]
    }
   ],
   "source": [
    "print(df_results.to_string(index=False))"
   ]
  },
  {
   "cell_type": "code",
   "execution_count": 72,
   "metadata": {
    "colab": {
     "base_uri": "https://localhost:8080/"
    },
    "executionInfo": {
     "elapsed": 18,
     "status": "ok",
     "timestamp": 1750424400797,
     "user": {
      "displayName": "Baran Kılınç",
      "userId": "15668208283949447064"
     },
     "user_tz": -180
    },
    "id": "JNTNIWsALkfR",
    "outputId": "13a1de6b-c104-4de4-f51f-d14c2d3906dd"
   },
   "outputs": [
    {
     "name": "stdout",
     "output_type": "stream",
     "text": [
      "╒════╤═════════════════════╤═══════════╤══════════╤═══════════════╤══════════════╤═══════════════════╤════════════════╤════════════╕\n",
      "│    │ Model               │   Mean_CV │   Std_CV │   Train_Score │   Test_Score │   Precision_Score │   Recall_Score │   F1_Score │\n",
      "╞════╪═════════════════════╪═══════════╪══════════╪═══════════════╪══════════════╪═══════════════════╪════════════════╪════════════╡\n",
      "│  4 │ XGBoost             │    0.9258 │   0.0027 │        0.9477 │       0.9278 │            0.9289 │         0.9026 │     0.9156 │\n",
      "├────┼─────────────────────┼───────────┼──────────┼───────────────┼──────────────┼───────────────────┼────────────────┼────────────┤\n",
      "│  7 │ SGBoosting          │    0.912  │   0.0026 │        0.9123 │       0.9131 │            0.9152 │         0.8813 │     0.898  │\n",
      "├────┼─────────────────────┼───────────┼──────────┼───────────────┼──────────────┼───────────────────┼────────────────┼────────────┤\n",
      "│  2 │ Random Forest       │    0.9055 │   0.0027 │        0.9069 │       0.9074 │            0.9214 │         0.8599 │     0.8896 │\n",
      "├────┼─────────────────────┼───────────┼──────────┼───────────────┼──────────────┼───────────────────┼────────────────┼────────────┤\n",
      "│  5 │ KNN                 │    0.8974 │   0.0028 │        0.9238 │       0.8993 │            0.9235 │         0.8371 │     0.8782 │\n",
      "├────┼─────────────────────┼───────────┼──────────┼───────────────┼──────────────┼───────────────────┼────────────────┼────────────┤\n",
      "│  3 │ Bagging Classifier  │    0.8876 │   0.0027 │        0.888  │       0.8895 │            0.8779 │         0.8655 │     0.8717 │\n",
      "├────┼─────────────────────┼───────────┼──────────┼───────────────┼──────────────┼───────────────────┼────────────────┼────────────┤\n",
      "│  1 │ Decision Tree       │    0.8866 │   0.0026 │        0.8873 │       0.8894 │            0.8821 │         0.86   │     0.8709 │\n",
      "├────┼─────────────────────┼───────────┼──────────┼───────────────┼──────────────┼───────────────────┼────────────────┼────────────┤\n",
      "│  0 │ Logistic Regression │    0.8679 │   0.0029 │        0.8681 │       0.8687 │            0.8689 │         0.8211 │     0.8443 │\n",
      "├────┼─────────────────────┼───────────┼──────────┼───────────────┼──────────────┼───────────────────┼────────────────┼────────────┤\n",
      "│  6 │ Linear SVC          │    0.8678 │   0.0028 │        0.868  │       0.8684 │            0.8719 │         0.8164 │     0.8432 │\n",
      "╘════╧═════════════════════╧═══════════╧══════════╧═══════════════╧══════════════╧═══════════════════╧════════════════╧════════════╛\n"
     ]
    }
   ],
   "source": [
    "print(tabulate(df_results, headers=\"keys\", tablefmt=\"fancy_grid\"))"
   ]
  },
  {
   "cell_type": "code",
   "execution_count": 73,
   "metadata": {
    "executionInfo": {
     "elapsed": 115637,
     "status": "ok",
     "timestamp": 1750424517641,
     "user": {
      "displayName": "Baran Kılınç",
      "userId": "15668208283949447064"
     },
     "user_tz": -180
    },
    "id": "EiClI4-2MgBc"
   },
   "outputs": [],
   "source": [
    "results = []\n",
    "\n",
    "for name, model in models.items():\n",
    "    model.fit(X_train, y_train)\n",
    "\n",
    "    # Accuracy\n",
    "    train_score = model.score(X_train, y_train)\n",
    "    test_score = model.score(X_test, y_test)\n",
    "\n",
    "    # Predict\n",
    "    y_pred = model.predict(X_test)\n",
    "\n",
    "    # other metrics\n",
    "    precision = precision_score(y_test, y_pred, pos_label=1)\n",
    "    recall = recall_score(y_test, y_pred, pos_label=1)\n",
    "    f1 = f1_score(y_test, y_pred, pos_label=1)\n",
    "\n",
    "    # add results without mean_cv and std_cv\n",
    "    results.append({\n",
    "        'Model': name,\n",
    "        'Train_Score': round(train_score, 4),\n",
    "        'Test_Score': round(test_score, 4),\n",
    "        'Precision_Score': round(precision, 4),\n",
    "        'Recall_Score': round(recall, 4),\n",
    "        'F1_Score': round(f1, 4)\n",
    "    })\n",
    "\n",
    "df_results = pd.DataFrame(results)\n",
    "df_results = df_results.sort_values(by=\"F1_Score\", ascending=False)"
   ]
  },
  {
   "cell_type": "code",
   "execution_count": 74,
   "metadata": {
    "colab": {
     "base_uri": "https://localhost:8080/"
    },
    "executionInfo": {
     "elapsed": 11,
     "status": "ok",
     "timestamp": 1750424517656,
     "user": {
      "displayName": "Baran Kılınç",
      "userId": "15668208283949447064"
     },
     "user_tz": -180
    },
    "id": "N33qG5zgNoyI",
    "outputId": "1074a2ed-da31-4c46-b12c-3b22fb540e42"
   },
   "outputs": [
    {
     "name": "stdout",
     "output_type": "stream",
     "text": [
      "                 Model  Train_Score  Test_Score  Precision_Score  \\\n",
      "4              XGBoost       0.9477      0.9278           0.9289   \n",
      "7           SGBoosting       0.9123      0.9131           0.9152   \n",
      "2        Random Forest       0.9069      0.9074           0.9214   \n",
      "5                  KNN       0.9238      0.8993           0.9235   \n",
      "3   Bagging Classifier       0.8880      0.8895           0.8779   \n",
      "1        Decision Tree       0.8873      0.8894           0.8821   \n",
      "0  Logistic Regression       0.8681      0.8687           0.8689   \n",
      "6           Linear SVC       0.8680      0.8684           0.8719   \n",
      "\n",
      "   Recall_Score  F1_Score  \n",
      "4        0.9026    0.9156  \n",
      "7        0.8813    0.8980  \n",
      "2        0.8599    0.8896  \n",
      "5        0.8371    0.8782  \n",
      "3        0.8655    0.8717  \n",
      "1        0.8600    0.8709  \n",
      "0        0.8211    0.8443  \n",
      "6        0.8164    0.8432  \n"
     ]
    }
   ],
   "source": [
    "print(df_results)"
   ]
  },
  {
   "cell_type": "code",
   "execution_count": 75,
   "metadata": {
    "colab": {
     "base_uri": "https://localhost:8080/"
    },
    "executionInfo": {
     "elapsed": 11,
     "status": "ok",
     "timestamp": 1750424526399,
     "user": {
      "displayName": "Baran Kılınç",
      "userId": "15668208283949447064"
     },
     "user_tz": -180
    },
    "id": "MB1SAESrNxuY",
    "outputId": "1c883f1b-42b2-4cc1-97d6-b7ef7c53efc4"
   },
   "outputs": [
    {
     "name": "stdout",
     "output_type": "stream",
     "text": [
      "              Model  Train_Score  Test_Score  Precision_Score  Recall_Score  F1_Score\n",
      "            XGBoost       0.9477      0.9278           0.9289        0.9026    0.9156\n",
      "         SGBoosting       0.9123      0.9131           0.9152        0.8813    0.8980\n",
      "      Random Forest       0.9069      0.9074           0.9214        0.8599    0.8896\n",
      "                KNN       0.9238      0.8993           0.9235        0.8371    0.8782\n",
      " Bagging Classifier       0.8880      0.8895           0.8779        0.8655    0.8717\n",
      "      Decision Tree       0.8873      0.8894           0.8821        0.8600    0.8709\n",
      "Logistic Regression       0.8681      0.8687           0.8689        0.8211    0.8443\n",
      "         Linear SVC       0.8680      0.8684           0.8719        0.8164    0.8432\n"
     ]
    }
   ],
   "source": [
    "print(df_results.to_string(index=False))"
   ]
  },
  {
   "cell_type": "code",
   "execution_count": 76,
   "metadata": {
    "colab": {
     "base_uri": "https://localhost:8080/"
    },
    "executionInfo": {
     "elapsed": 12,
     "status": "ok",
     "timestamp": 1750424527545,
     "user": {
      "displayName": "Baran Kılınç",
      "userId": "15668208283949447064"
     },
     "user_tz": -180
    },
    "id": "vK4MrydwN43I",
    "outputId": "57f06e2f-de02-4eb2-c952-ecadf69163b1"
   },
   "outputs": [
    {
     "name": "stdout",
     "output_type": "stream",
     "text": [
      "╒════╤═════════════════════╤═══════════════╤══════════════╤═══════════════════╤════════════════╤════════════╕\n",
      "│    │ Model               │   Train_Score │   Test_Score │   Precision_Score │   Recall_Score │   F1_Score │\n",
      "╞════╪═════════════════════╪═══════════════╪══════════════╪═══════════════════╪════════════════╪════════════╡\n",
      "│  4 │ XGBoost             │        0.9477 │       0.9278 │            0.9289 │         0.9026 │     0.9156 │\n",
      "├────┼─────────────────────┼───────────────┼──────────────┼───────────────────┼────────────────┼────────────┤\n",
      "│  7 │ SGBoosting          │        0.9123 │       0.9131 │            0.9152 │         0.8813 │     0.898  │\n",
      "├────┼─────────────────────┼───────────────┼──────────────┼───────────────────┼────────────────┼────────────┤\n",
      "│  2 │ Random Forest       │        0.9069 │       0.9074 │            0.9214 │         0.8599 │     0.8896 │\n",
      "├────┼─────────────────────┼───────────────┼──────────────┼───────────────────┼────────────────┼────────────┤\n",
      "│  5 │ KNN                 │        0.9238 │       0.8993 │            0.9235 │         0.8371 │     0.8782 │\n",
      "├────┼─────────────────────┼───────────────┼──────────────┼───────────────────┼────────────────┼────────────┤\n",
      "│  3 │ Bagging Classifier  │        0.888  │       0.8895 │            0.8779 │         0.8655 │     0.8717 │\n",
      "├────┼─────────────────────┼───────────────┼──────────────┼───────────────────┼────────────────┼────────────┤\n",
      "│  1 │ Decision Tree       │        0.8873 │       0.8894 │            0.8821 │         0.86   │     0.8709 │\n",
      "├────┼─────────────────────┼───────────────┼──────────────┼───────────────────┼────────────────┼────────────┤\n",
      "│  0 │ Logistic Regression │        0.8681 │       0.8687 │            0.8689 │         0.8211 │     0.8443 │\n",
      "├────┼─────────────────────┼───────────────┼──────────────┼───────────────────┼────────────────┼────────────┤\n",
      "│  6 │ Linear SVC          │        0.868  │       0.8684 │            0.8719 │         0.8164 │     0.8432 │\n",
      "╘════╧═════════════════════╧═══════════════╧══════════════╧═══════════════════╧════════════════╧════════════╛\n"
     ]
    }
   ],
   "source": [
    "print(tabulate(df_results, headers=\"keys\", tablefmt=\"fancy_grid\"))"
   ]
  },
  {
   "cell_type": "code",
   "execution_count": 77,
   "metadata": {
    "colab": {
     "base_uri": "https://localhost:8080/",
     "height": 484
    },
    "executionInfo": {
     "elapsed": 389,
     "status": "ok",
     "timestamp": 1750424528923,
     "user": {
      "displayName": "Baran Kılınç",
      "userId": "15668208283949447064"
     },
     "user_tz": -180
    },
    "id": "neHSFPA3jL54",
    "outputId": "bc41595a-5dc4-4042-ace0-a61bb042f09b"
   },
   "outputs": [
    {
     "data": {
      "image/png": "[encoded data removed]",
      "text/plain": [
       "<Figure size 1200x600 with 1 Axes>"
      ]
     },
     "metadata": {},
     "output_type": "display_data"
    }
   ],
   "source": [
    "plt.figure(figsize=(12, 6))\n",
    "sns.barplot(data=df_results, x='F1_Score', y='Model', palette='Blues_d')\n",
    "plt.title('Model Comparison by F1 Score')\n",
    "plt.xlabel('F1 Score')\n",
    "plt.ylabel('Model')\n",
    "plt.xlim(0.8, 1.0)\n",
    "plt.tight_layout()\n",
    "plt.show()"
   ]
  },
  {
   "cell_type": "code",
   "execution_count": 77,
   "metadata": {
    "executionInfo": {
     "elapsed": 3,
     "status": "ok",
     "timestamp": 1750424532263,
     "user": {
      "displayName": "Baran Kılınç",
      "userId": "15668208283949447064"
     },
     "user_tz": -180
    },
    "id": "v6V991HGjMDg"
   },
   "outputs": [],
   "source": []
  },
  {
   "cell_type": "code",
   "execution_count": 78,
   "metadata": {
    "executionInfo": {
     "elapsed": 6,
     "status": "ok",
     "timestamp": 1750424533054,
     "user": {
      "displayName": "Baran Kılınç",
      "userId": "15668208283949447064"
     },
     "user_tz": -180
    },
    "id": "tyoYcpnlaQxy"
   },
   "outputs": [],
   "source": [
    "#Feature importance"
   ]
  },
  {
   "cell_type": "code",
   "execution_count": 79,
   "metadata": {
    "colab": {
     "base_uri": "https://localhost:8080/",
     "height": 452
    },
    "executionInfo": {
     "elapsed": 200,
     "status": "ok",
     "timestamp": 1750424534782,
     "user": {
      "displayName": "Baran Kılınç",
      "userId": "15668208283949447064"
     },
     "user_tz": -180
    },
    "id": "4qK5R3H_bQXM",
    "outputId": "4bcc5350-4e26-4025-a994-8fdc127e1b05"
   },
   "outputs": [
    {
     "data": {
      "image/png": "[encoded data removed]",
      "text/plain": [
       "<Figure size 640x480 with 1 Axes>"
      ]
     },
     "metadata": {},
     "output_type": "display_data"
    }
   ],
   "source": [
    "best_model = xgb_clf\n",
    "feature_importances = pd.Series(best_model.feature_importances_, index=X_train.columns)\n",
    "feature_importances = feature_importances.sort_values(ascending=False)\n",
    "\n",
    "feature_importances.head(10).plot(kind='barh')\n",
    "plt.title(\"Top 10 Important Features\")\n",
    "plt.gca().invert_yaxis()\n",
    "plt.show()\n"
   ]
  },
  {
   "cell_type": "code",
   "execution_count": null,
   "metadata": {
    "id": "oYOOZRPDbW6Q"
   },
   "outputs": [],
   "source": []
  }
 ],
 "metadata": {
  "colab": {
   "authorship_tag": "ABX9TyMmV324vRIobqtgVQS181nR",
   "provenance": []
  },
  "kernelspec": {
   "display_name": "Python 3",
   "name": "python3"
  },
  "language_info": {
   "name": "python"
  }
 },
 "nbformat": 4,
 "nbformat_minor": 0
}
